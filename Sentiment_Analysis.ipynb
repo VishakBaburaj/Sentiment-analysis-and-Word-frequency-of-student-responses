{
 "cells": [
  {
   "cell_type": "markdown",
   "metadata": {},
   "source": [
    "# Students_Sentiment_Analysis"
   ]
  },
  {
   "cell_type": "markdown",
   "metadata": {},
   "source": [
    "### Importing libraries"
   ]
  },
  {
   "cell_type": "code",
   "execution_count": 1,
   "metadata": {},
   "outputs": [
    {
     "name": "stdout",
     "output_type": "stream",
     "text": [
      "Requirement already satisfied: vaderSentiment in c:\\users\\visha\\anaconda3\\lib\\site-packages (3.3.2)\n",
      "Requirement already satisfied: requests in c:\\users\\visha\\anaconda3\\lib\\site-packages (from vaderSentiment) (2.24.0)\n",
      "Requirement already satisfied: idna<3,>=2.5 in c:\\users\\visha\\anaconda3\\lib\\site-packages (from requests->vaderSentiment) (2.10)\n",
      "Requirement already satisfied: urllib3!=1.25.0,!=1.25.1,<1.26,>=1.21.1 in c:\\users\\visha\\anaconda3\\lib\\site-packages (from requests->vaderSentiment) (1.25.11)\n",
      "Requirement already satisfied: chardet<4,>=3.0.2 in c:\\users\\visha\\anaconda3\\lib\\site-packages (from requests->vaderSentiment) (3.0.4)\n",
      "Requirement already satisfied: certifi>=2017.4.17 in c:\\users\\visha\\anaconda3\\lib\\site-packages (from requests->vaderSentiment) (2020.6.20)\n",
      "Note: you may need to restart the kernel to use updated packages.\n"
     ]
    }
   ],
   "source": [
    "import pandas as pd\n",
    "import numpy as np\n",
    "import re\n",
    "%pip install vaderSentiment\n",
    "from vaderSentiment.vaderSentiment import SentimentIntensityAnalyzer\n",
    "import matplotlib.pyplot as plt\n",
    "import seaborn as sns"
   ]
  },
  {
   "cell_type": "markdown",
   "metadata": {},
   "source": [
    "### Importing dataset CSV file "
   ]
  },
  {
   "cell_type": "code",
   "execution_count": 2,
   "metadata": {},
   "outputs": [
    {
     "data": {
      "text/html": [
       "<div>\n",
       "<style scoped>\n",
       "    .dataframe tbody tr th:only-of-type {\n",
       "        vertical-align: middle;\n",
       "    }\n",
       "\n",
       "    .dataframe tbody tr th {\n",
       "        vertical-align: top;\n",
       "    }\n",
       "\n",
       "    .dataframe thead th {\n",
       "        text-align: right;\n",
       "    }\n",
       "</style>\n",
       "<table border=\"1\" class=\"dataframe\">\n",
       "  <thead>\n",
       "    <tr style=\"text-align: right;\">\n",
       "      <th></th>\n",
       "      <th>Timestamp</th>\n",
       "      <th>Which board you are part of?</th>\n",
       "      <th>How do you feel when you are not aware of the status of your board exams? You may select more than one option given below:</th>\n",
       "      <th>What is your opinion about Class XII board exams?</th>\n",
       "      <th>State the reasons for why do you want the exams to be cancelled? (Safety, Status of mind, Future plans, Health etc.)</th>\n",
       "      <th>State the reasons for why do you want the exams to be conducted on a later date? (Safety, Status of mind, Future plans, Entrance Exams, Health etc.)</th>\n",
       "      <th>Name the state from which you will be giving your XII Board exam(eg: Karnataka)</th>\n",
       "    </tr>\n",
       "  </thead>\n",
       "  <tbody>\n",
       "    <tr>\n",
       "      <th>0</th>\n",
       "      <td>2021/05/14 6:47:27 PM GMT+5:30</td>\n",
       "      <td>ICSE</td>\n",
       "      <td>Anxious;Uncertain;Stress</td>\n",
       "      <td>Cannot Say</td>\n",
       "      <td>NaN</td>\n",
       "      <td>NaN</td>\n",
       "      <td>Kerala</td>\n",
       "    </tr>\n",
       "    <tr>\n",
       "      <th>1</th>\n",
       "      <td>2021/05/14 6:58:16 PM GMT+5:30</td>\n",
       "      <td>CBSE</td>\n",
       "      <td>Depressed;Uncertain;Inability to concentrate;C...</td>\n",
       "      <td>Should be cancelled</td>\n",
       "      <td>Health of my grandparents and family. I don't ...</td>\n",
       "      <td>NaN</td>\n",
       "      <td>KARNATAKA</td>\n",
       "    </tr>\n",
       "  </tbody>\n",
       "</table>\n",
       "</div>"
      ],
      "text/plain": [
       "                        Timestamp Which board you are part of?  \\\n",
       "0  2021/05/14 6:47:27 PM GMT+5:30                         ICSE   \n",
       "1  2021/05/14 6:58:16 PM GMT+5:30                         CBSE   \n",
       "\n",
       "  How do you feel when you are not aware of the status of your board exams? You may select more than one option given below:  \\\n",
       "0                           Anxious;Uncertain;Stress                                                                           \n",
       "1  Depressed;Uncertain;Inability to concentrate;C...                                                                           \n",
       "\n",
       "  What is your opinion about Class XII board exams?  \\\n",
       "0                                        Cannot Say   \n",
       "1                               Should be cancelled   \n",
       "\n",
       "  State the reasons for why do you want the exams to be cancelled? (Safety, Status of mind, Future plans, Health etc.)  \\\n",
       "0                                                NaN                                                                     \n",
       "1  Health of my grandparents and family. I don't ...                                                                     \n",
       "\n",
       "  State the reasons for why do you want the exams to be conducted on a later date? (Safety, Status of mind, Future plans, Entrance Exams, Health etc.)  \\\n",
       "0                                                NaN                                                                                                     \n",
       "1                                                NaN                                                                                                     \n",
       "\n",
       "  Name the state from which you will be giving your XII Board exam(eg: Karnataka)  \n",
       "0                                             Kerala                               \n",
       "1                                          KARNATAKA                               "
      ]
     },
     "execution_count": 2,
     "metadata": {},
     "output_type": "execute_result"
    }
   ],
   "source": [
    "data = pd.read_csv(r\"XII Board Exams-2021.csv\")\n",
    "data.head(2)"
   ]
  },
  {
   "cell_type": "markdown",
   "metadata": {},
   "source": [
    "### New header for each attribute"
   ]
  },
  {
   "cell_type": "code",
   "execution_count": 3,
   "metadata": {},
   "outputs": [
    {
     "data": {
      "text/html": [
       "<div>\n",
       "<style scoped>\n",
       "    .dataframe tbody tr th:only-of-type {\n",
       "        vertical-align: middle;\n",
       "    }\n",
       "\n",
       "    .dataframe tbody tr th {\n",
       "        vertical-align: top;\n",
       "    }\n",
       "\n",
       "    .dataframe thead th {\n",
       "        text-align: right;\n",
       "    }\n",
       "</style>\n",
       "<table border=\"1\" class=\"dataframe\">\n",
       "  <thead>\n",
       "    <tr style=\"text-align: right;\">\n",
       "      <th></th>\n",
       "      <th>timestamp</th>\n",
       "      <th>syllabus</th>\n",
       "      <th>emotion</th>\n",
       "      <th>opinion</th>\n",
       "      <th>reason_cancelling</th>\n",
       "      <th>reason_conducting_late</th>\n",
       "      <th>state</th>\n",
       "    </tr>\n",
       "  </thead>\n",
       "  <tbody>\n",
       "    <tr>\n",
       "      <th>0</th>\n",
       "      <td>2021/05/14 6:47:27 PM GMT+5:30</td>\n",
       "      <td>ICSE</td>\n",
       "      <td>Anxious;Uncertain;Stress</td>\n",
       "      <td>Cannot Say</td>\n",
       "      <td>NaN</td>\n",
       "      <td>NaN</td>\n",
       "      <td>Kerala</td>\n",
       "    </tr>\n",
       "    <tr>\n",
       "      <th>1</th>\n",
       "      <td>2021/05/14 6:58:16 PM GMT+5:30</td>\n",
       "      <td>CBSE</td>\n",
       "      <td>Depressed;Uncertain;Inability to concentrate;C...</td>\n",
       "      <td>Should be cancelled</td>\n",
       "      <td>Health of my grandparents and family. I don't ...</td>\n",
       "      <td>NaN</td>\n",
       "      <td>KARNATAKA</td>\n",
       "    </tr>\n",
       "    <tr>\n",
       "      <th>2</th>\n",
       "      <td>2021/05/14 7:00:07 PM GMT+5:30</td>\n",
       "      <td>CBSE</td>\n",
       "      <td>Depressed;Anxious;Uncertain;Confused;Stress;Sad</td>\n",
       "      <td>Should be cancelled</td>\n",
       "      <td>Safety,status of mind</td>\n",
       "      <td>NaN</td>\n",
       "      <td>Gujarat</td>\n",
       "    </tr>\n",
       "    <tr>\n",
       "      <th>3</th>\n",
       "      <td>2021/05/14 7:06:53 PM GMT+5:30</td>\n",
       "      <td>State Board</td>\n",
       "      <td>Anxious;Agitated;Uncertain;Inability to concen...</td>\n",
       "      <td>Should be cancelled</td>\n",
       "      <td>I think most of us have got into colleges usin...</td>\n",
       "      <td>NaN</td>\n",
       "      <td>Karnataka</td>\n",
       "    </tr>\n",
       "    <tr>\n",
       "      <th>4</th>\n",
       "      <td>2021/05/14 7:07:48 PM GMT+5:30</td>\n",
       "      <td>State Board</td>\n",
       "      <td>Anxious;Agitated;Uncertain;Confused;Stress</td>\n",
       "      <td>Should be cancelled</td>\n",
       "      <td>Safety is definitely the number one reason her...</td>\n",
       "      <td>NaN</td>\n",
       "      <td>Karnataka</td>\n",
       "    </tr>\n",
       "  </tbody>\n",
       "</table>\n",
       "</div>"
      ],
      "text/plain": [
       "                        timestamp     syllabus  \\\n",
       "0  2021/05/14 6:47:27 PM GMT+5:30         ICSE   \n",
       "1  2021/05/14 6:58:16 PM GMT+5:30         CBSE   \n",
       "2  2021/05/14 7:00:07 PM GMT+5:30         CBSE   \n",
       "3  2021/05/14 7:06:53 PM GMT+5:30  State Board   \n",
       "4  2021/05/14 7:07:48 PM GMT+5:30  State Board   \n",
       "\n",
       "                                             emotion              opinion  \\\n",
       "0                           Anxious;Uncertain;Stress           Cannot Say   \n",
       "1  Depressed;Uncertain;Inability to concentrate;C...  Should be cancelled   \n",
       "2    Depressed;Anxious;Uncertain;Confused;Stress;Sad  Should be cancelled   \n",
       "3  Anxious;Agitated;Uncertain;Inability to concen...  Should be cancelled   \n",
       "4         Anxious;Agitated;Uncertain;Confused;Stress  Should be cancelled   \n",
       "\n",
       "                                   reason_cancelling reason_conducting_late  \\\n",
       "0                                                NaN                    NaN   \n",
       "1  Health of my grandparents and family. I don't ...                    NaN   \n",
       "2                             Safety,status of mind                     NaN   \n",
       "3  I think most of us have got into colleges usin...                    NaN   \n",
       "4  Safety is definitely the number one reason her...                    NaN   \n",
       "\n",
       "       state  \n",
       "0     Kerala  \n",
       "1  KARNATAKA  \n",
       "2    Gujarat  \n",
       "3  Karnataka  \n",
       "4  Karnataka  "
      ]
     },
     "execution_count": 3,
     "metadata": {},
     "output_type": "execute_result"
    }
   ],
   "source": [
    "new_header = {'Timestamp':'timestamp','Which board you are part of?':'syllabus','How do you feel when you are not aware of the status of your board exams? You may select more than one option given below:':'emotion','What is your opinion about Class XII board exams?':'opinion','State the reasons for why do you want the exams to be cancelled? (Safety, Status of mind, Future plans, Health etc.)':'reason_cancelling','State the reasons for why do you want the exams to be conducted on a later date? (Safety, Status of mind, Future plans, Entrance Exams, Health etc.)':'reason_conducting_late','Name the state from which you will be giving your XII Board exam(eg: Karnataka)':'state'}\n",
    "datanew = data.rename(columns=new_header,inplace=False)\n",
    "datanew.head()"
   ]
  },
  {
   "cell_type": "markdown",
   "metadata": {},
   "source": [
    "### Headers"
   ]
  },
  {
   "cell_type": "code",
   "execution_count": 4,
   "metadata": {},
   "outputs": [
    {
     "data": {
      "text/plain": [
       "array(['timestamp', 'syllabus', 'emotion', 'opinion', 'reason_cancelling',\n",
       "       'reason_conducting_late', 'state'], dtype=object)"
      ]
     },
     "execution_count": 4,
     "metadata": {},
     "output_type": "execute_result"
    }
   ],
   "source": [
    "datanew.columns.values"
   ]
  },
  {
   "cell_type": "markdown",
   "metadata": {},
   "source": [
    "### Dataset info"
   ]
  },
  {
   "cell_type": "code",
   "execution_count": 5,
   "metadata": {},
   "outputs": [
    {
     "name": "stdout",
     "output_type": "stream",
     "text": [
      "<class 'pandas.core.frame.DataFrame'>\n",
      "RangeIndex: 42640 entries, 0 to 42639\n",
      "Data columns (total 7 columns):\n",
      " #   Column                  Non-Null Count  Dtype \n",
      "---  ------                  --------------  ----- \n",
      " 0   timestamp               42640 non-null  object\n",
      " 1   syllabus                42635 non-null  object\n",
      " 2   emotion                 42635 non-null  object\n",
      " 3   opinion                 42635 non-null  object\n",
      " 4   reason_cancelling       30138 non-null  object\n",
      " 5   reason_conducting_late  8107 non-null   object\n",
      " 6   state                   42640 non-null  object\n",
      "dtypes: object(7)\n",
      "memory usage: 2.3+ MB\n"
     ]
    }
   ],
   "source": [
    "datanew.info()"
   ]
  },
  {
   "cell_type": "markdown",
   "metadata": {},
   "source": [
    "### Describing the dataset"
   ]
  },
  {
   "cell_type": "code",
   "execution_count": 6,
   "metadata": {},
   "outputs": [
    {
     "data": {
      "text/html": [
       "<div>\n",
       "<style scoped>\n",
       "    .dataframe tbody tr th:only-of-type {\n",
       "        vertical-align: middle;\n",
       "    }\n",
       "\n",
       "    .dataframe tbody tr th {\n",
       "        vertical-align: top;\n",
       "    }\n",
       "\n",
       "    .dataframe thead th {\n",
       "        text-align: right;\n",
       "    }\n",
       "</style>\n",
       "<table border=\"1\" class=\"dataframe\">\n",
       "  <thead>\n",
       "    <tr style=\"text-align: right;\">\n",
       "      <th></th>\n",
       "      <th>timestamp</th>\n",
       "      <th>syllabus</th>\n",
       "      <th>emotion</th>\n",
       "      <th>opinion</th>\n",
       "      <th>reason_cancelling</th>\n",
       "      <th>reason_conducting_late</th>\n",
       "      <th>state</th>\n",
       "    </tr>\n",
       "  </thead>\n",
       "  <tbody>\n",
       "    <tr>\n",
       "      <th>count</th>\n",
       "      <td>42640</td>\n",
       "      <td>42635</td>\n",
       "      <td>42635</td>\n",
       "      <td>42635</td>\n",
       "      <td>30138</td>\n",
       "      <td>8107</td>\n",
       "      <td>42640</td>\n",
       "    </tr>\n",
       "    <tr>\n",
       "      <th>unique</th>\n",
       "      <td>37992</td>\n",
       "      <td>5</td>\n",
       "      <td>1167</td>\n",
       "      <td>3</td>\n",
       "      <td>20813</td>\n",
       "      <td>5123</td>\n",
       "      <td>2435</td>\n",
       "    </tr>\n",
       "    <tr>\n",
       "      <th>top</th>\n",
       "      <td>2021/05/18 2:14:14 PM GMT+5:30</td>\n",
       "      <td>State Board</td>\n",
       "      <td>Confused</td>\n",
       "      <td>Should be cancelled</td>\n",
       "      <td>Safety</td>\n",
       "      <td>Safety</td>\n",
       "      <td>Karnataka</td>\n",
       "    </tr>\n",
       "    <tr>\n",
       "      <th>freq</th>\n",
       "      <td>5</td>\n",
       "      <td>24566</td>\n",
       "      <td>3341</td>\n",
       "      <td>30133</td>\n",
       "      <td>2715</td>\n",
       "      <td>788</td>\n",
       "      <td>12695</td>\n",
       "    </tr>\n",
       "  </tbody>\n",
       "</table>\n",
       "</div>"
      ],
      "text/plain": [
       "                             timestamp     syllabus   emotion  \\\n",
       "count                            42640        42635     42635   \n",
       "unique                           37992            5      1167   \n",
       "top     2021/05/18 2:14:14 PM GMT+5:30  State Board  Confused   \n",
       "freq                                 5        24566      3341   \n",
       "\n",
       "                    opinion reason_cancelling reason_conducting_late  \\\n",
       "count                 42635             30138                   8107   \n",
       "unique                    3             20813                   5123   \n",
       "top     Should be cancelled            Safety                 Safety   \n",
       "freq                  30133              2715                    788   \n",
       "\n",
       "            state  \n",
       "count       42640  \n",
       "unique       2435  \n",
       "top     Karnataka  \n",
       "freq        12695  "
      ]
     },
     "execution_count": 6,
     "metadata": {},
     "output_type": "execute_result"
    }
   ],
   "source": [
    "datanew.describe()"
   ]
  },
  {
   "cell_type": "markdown",
   "metadata": {},
   "source": [
    "### Attributes for sentiment analysis "
   ]
  },
  {
   "cell_type": "code",
   "execution_count": 7,
   "metadata": {},
   "outputs": [
    {
     "data": {
      "text/html": [
       "<div>\n",
       "<style scoped>\n",
       "    .dataframe tbody tr th:only-of-type {\n",
       "        vertical-align: middle;\n",
       "    }\n",
       "\n",
       "    .dataframe tbody tr th {\n",
       "        vertical-align: top;\n",
       "    }\n",
       "\n",
       "    .dataframe thead th {\n",
       "        text-align: right;\n",
       "    }\n",
       "</style>\n",
       "<table border=\"1\" class=\"dataframe\">\n",
       "  <thead>\n",
       "    <tr style=\"text-align: right;\">\n",
       "      <th></th>\n",
       "      <th>syllabus</th>\n",
       "      <th>emotion</th>\n",
       "      <th>opinion</th>\n",
       "      <th>reason_cancelling</th>\n",
       "      <th>reason_conducting_late</th>\n",
       "      <th>state</th>\n",
       "    </tr>\n",
       "  </thead>\n",
       "  <tbody>\n",
       "    <tr>\n",
       "      <th>0</th>\n",
       "      <td>ICSE</td>\n",
       "      <td>Anxious;Uncertain;Stress</td>\n",
       "      <td>Cannot Say</td>\n",
       "      <td>NaN</td>\n",
       "      <td>NaN</td>\n",
       "      <td>Kerala</td>\n",
       "    </tr>\n",
       "    <tr>\n",
       "      <th>1</th>\n",
       "      <td>CBSE</td>\n",
       "      <td>Depressed;Uncertain;Inability to concentrate;C...</td>\n",
       "      <td>Should be cancelled</td>\n",
       "      <td>Health of my grandparents and family. I don't ...</td>\n",
       "      <td>NaN</td>\n",
       "      <td>KARNATAKA</td>\n",
       "    </tr>\n",
       "    <tr>\n",
       "      <th>2</th>\n",
       "      <td>CBSE</td>\n",
       "      <td>Depressed;Anxious;Uncertain;Confused;Stress;Sad</td>\n",
       "      <td>Should be cancelled</td>\n",
       "      <td>Safety,status of mind</td>\n",
       "      <td>NaN</td>\n",
       "      <td>Gujarat</td>\n",
       "    </tr>\n",
       "    <tr>\n",
       "      <th>3</th>\n",
       "      <td>State Board</td>\n",
       "      <td>Anxious;Agitated;Uncertain;Inability to concen...</td>\n",
       "      <td>Should be cancelled</td>\n",
       "      <td>I think most of us have got into colleges usin...</td>\n",
       "      <td>NaN</td>\n",
       "      <td>Karnataka</td>\n",
       "    </tr>\n",
       "    <tr>\n",
       "      <th>4</th>\n",
       "      <td>State Board</td>\n",
       "      <td>Anxious;Agitated;Uncertain;Confused;Stress</td>\n",
       "      <td>Should be cancelled</td>\n",
       "      <td>Safety is definitely the number one reason her...</td>\n",
       "      <td>NaN</td>\n",
       "      <td>Karnataka</td>\n",
       "    </tr>\n",
       "  </tbody>\n",
       "</table>\n",
       "</div>"
      ],
      "text/plain": [
       "      syllabus                                            emotion  \\\n",
       "0         ICSE                           Anxious;Uncertain;Stress   \n",
       "1         CBSE  Depressed;Uncertain;Inability to concentrate;C...   \n",
       "2         CBSE    Depressed;Anxious;Uncertain;Confused;Stress;Sad   \n",
       "3  State Board  Anxious;Agitated;Uncertain;Inability to concen...   \n",
       "4  State Board         Anxious;Agitated;Uncertain;Confused;Stress   \n",
       "\n",
       "               opinion                                  reason_cancelling  \\\n",
       "0           Cannot Say                                                NaN   \n",
       "1  Should be cancelled  Health of my grandparents and family. I don't ...   \n",
       "2  Should be cancelled                             Safety,status of mind    \n",
       "3  Should be cancelled  I think most of us have got into colleges usin...   \n",
       "4  Should be cancelled  Safety is definitely the number one reason her...   \n",
       "\n",
       "  reason_conducting_late      state  \n",
       "0                    NaN     Kerala  \n",
       "1                    NaN  KARNATAKA  \n",
       "2                    NaN    Gujarat  \n",
       "3                    NaN  Karnataka  \n",
       "4                    NaN  Karnataka  "
      ]
     },
     "execution_count": 7,
     "metadata": {},
     "output_type": "execute_result"
    }
   ],
   "source": [
    "column = ['syllabus','emotion','opinion','reason_cancelling','reason_conducting_late','state']\n",
    "datanew = datanew[column]\n",
    "datanew.head(5)"
   ]
  },
  {
   "cell_type": "markdown",
   "metadata": {},
   "source": [
    "### Null values"
   ]
  },
  {
   "cell_type": "code",
   "execution_count": 8,
   "metadata": {},
   "outputs": [
    {
     "name": "stdout",
     "output_type": "stream",
     "text": [
      "syllabus                      5\n",
      "emotion                       5\n",
      "opinion                       5\n",
      "reason_cancelling         12502\n",
      "reason_conducting_late    34533\n",
      "state                         0\n",
      "dtype: int64\n"
     ]
    }
   ],
   "source": [
    "print(datanew.isna().sum())"
   ]
  },
  {
   "cell_type": "markdown",
   "metadata": {},
   "source": [
    "### Deleting null values  in the attribute emotion "
   ]
  },
  {
   "cell_type": "code",
   "execution_count": 9,
   "metadata": {},
   "outputs": [
    {
     "data": {
      "text/html": [
       "<div>\n",
       "<style scoped>\n",
       "    .dataframe tbody tr th:only-of-type {\n",
       "        vertical-align: middle;\n",
       "    }\n",
       "\n",
       "    .dataframe tbody tr th {\n",
       "        vertical-align: top;\n",
       "    }\n",
       "\n",
       "    .dataframe thead th {\n",
       "        text-align: right;\n",
       "    }\n",
       "</style>\n",
       "<table border=\"1\" class=\"dataframe\">\n",
       "  <thead>\n",
       "    <tr style=\"text-align: right;\">\n",
       "      <th></th>\n",
       "      <th>syllabus</th>\n",
       "      <th>emotion</th>\n",
       "      <th>opinion</th>\n",
       "      <th>reason_cancelling</th>\n",
       "      <th>reason_conducting_late</th>\n",
       "      <th>state</th>\n",
       "    </tr>\n",
       "  </thead>\n",
       "  <tbody>\n",
       "    <tr>\n",
       "      <th>0</th>\n",
       "      <td>ICSE</td>\n",
       "      <td>Anxious;Uncertain;Stress</td>\n",
       "      <td>Cannot Say</td>\n",
       "      <td>NaN</td>\n",
       "      <td>NaN</td>\n",
       "      <td>Kerala</td>\n",
       "    </tr>\n",
       "    <tr>\n",
       "      <th>1</th>\n",
       "      <td>CBSE</td>\n",
       "      <td>Depressed;Uncertain;Inability to concentrate;C...</td>\n",
       "      <td>Should be cancelled</td>\n",
       "      <td>Health of my grandparents and family. I don't ...</td>\n",
       "      <td>NaN</td>\n",
       "      <td>KARNATAKA</td>\n",
       "    </tr>\n",
       "    <tr>\n",
       "      <th>2</th>\n",
       "      <td>CBSE</td>\n",
       "      <td>Depressed;Anxious;Uncertain;Confused;Stress;Sad</td>\n",
       "      <td>Should be cancelled</td>\n",
       "      <td>Safety,status of mind</td>\n",
       "      <td>NaN</td>\n",
       "      <td>Gujarat</td>\n",
       "    </tr>\n",
       "    <tr>\n",
       "      <th>3</th>\n",
       "      <td>State Board</td>\n",
       "      <td>Anxious;Agitated;Uncertain;Inability to concen...</td>\n",
       "      <td>Should be cancelled</td>\n",
       "      <td>I think most of us have got into colleges usin...</td>\n",
       "      <td>NaN</td>\n",
       "      <td>Karnataka</td>\n",
       "    </tr>\n",
       "    <tr>\n",
       "      <th>4</th>\n",
       "      <td>State Board</td>\n",
       "      <td>Anxious;Agitated;Uncertain;Confused;Stress</td>\n",
       "      <td>Should be cancelled</td>\n",
       "      <td>Safety is definitely the number one reason her...</td>\n",
       "      <td>NaN</td>\n",
       "      <td>Karnataka</td>\n",
       "    </tr>\n",
       "  </tbody>\n",
       "</table>\n",
       "</div>"
      ],
      "text/plain": [
       "      syllabus                                            emotion  \\\n",
       "0         ICSE                           Anxious;Uncertain;Stress   \n",
       "1         CBSE  Depressed;Uncertain;Inability to concentrate;C...   \n",
       "2         CBSE    Depressed;Anxious;Uncertain;Confused;Stress;Sad   \n",
       "3  State Board  Anxious;Agitated;Uncertain;Inability to concen...   \n",
       "4  State Board         Anxious;Agitated;Uncertain;Confused;Stress   \n",
       "\n",
       "               opinion                                  reason_cancelling  \\\n",
       "0           Cannot Say                                                NaN   \n",
       "1  Should be cancelled  Health of my grandparents and family. I don't ...   \n",
       "2  Should be cancelled                             Safety,status of mind    \n",
       "3  Should be cancelled  I think most of us have got into colleges usin...   \n",
       "4  Should be cancelled  Safety is definitely the number one reason her...   \n",
       "\n",
       "  reason_conducting_late      state  \n",
       "0                    NaN     Kerala  \n",
       "1                    NaN  KARNATAKA  \n",
       "2                    NaN    Gujarat  \n",
       "3                    NaN  Karnataka  \n",
       "4                    NaN  Karnataka  "
      ]
     },
     "execution_count": 9,
     "metadata": {},
     "output_type": "execute_result"
    }
   ],
   "source": [
    "datanew = datanew.dropna(subset=[\"emotion\"])\n",
    "datanew.head(5)"
   ]
  },
  {
   "cell_type": "markdown",
   "metadata": {},
   "source": [
    "### Final dataset for processing"
   ]
  },
  {
   "cell_type": "code",
   "execution_count": 10,
   "metadata": {},
   "outputs": [
    {
     "name": "stdout",
     "output_type": "stream",
     "text": [
      "syllabus                      0\n",
      "emotion                       0\n",
      "opinion                       0\n",
      "reason_cancelling         12502\n",
      "reason_conducting_late    34528\n",
      "state                         0\n",
      "dtype: int64\n"
     ]
    }
   ],
   "source": [
    "print(datanew.isna().sum())"
   ]
  },
  {
   "cell_type": "markdown",
   "metadata": {},
   "source": [
    "### Length of the dataset"
   ]
  },
  {
   "cell_type": "code",
   "execution_count": 11,
   "metadata": {},
   "outputs": [
    {
     "data": {
      "text/plain": [
       "42635"
      ]
     },
     "execution_count": 11,
     "metadata": {},
     "output_type": "execute_result"
    }
   ],
   "source": [
    "len(datanew)"
   ]
  },
  {
   "cell_type": "code",
   "execution_count": 12,
   "metadata": {},
   "outputs": [
    {
     "data": {
      "text/html": [
       "<div>\n",
       "<style scoped>\n",
       "    .dataframe tbody tr th:only-of-type {\n",
       "        vertical-align: middle;\n",
       "    }\n",
       "\n",
       "    .dataframe tbody tr th {\n",
       "        vertical-align: top;\n",
       "    }\n",
       "\n",
       "    .dataframe thead th {\n",
       "        text-align: right;\n",
       "    }\n",
       "</style>\n",
       "<table border=\"1\" class=\"dataframe\">\n",
       "  <thead>\n",
       "    <tr style=\"text-align: right;\">\n",
       "      <th></th>\n",
       "      <th>syllabus</th>\n",
       "      <th>emotion</th>\n",
       "      <th>opinion</th>\n",
       "      <th>reason_cancelling</th>\n",
       "      <th>reason_conducting_late</th>\n",
       "      <th>state</th>\n",
       "    </tr>\n",
       "  </thead>\n",
       "  <tbody>\n",
       "    <tr>\n",
       "      <th>2</th>\n",
       "      <td>CBSE</td>\n",
       "      <td>Depressed;Anxious;Uncertain;Confused;Stress;Sad</td>\n",
       "      <td>Should be cancelled</td>\n",
       "      <td>Safety,status of mind</td>\n",
       "      <td>NaN</td>\n",
       "      <td>Gujarat</td>\n",
       "    </tr>\n",
       "    <tr>\n",
       "      <th>3</th>\n",
       "      <td>State Board</td>\n",
       "      <td>Anxious;Agitated;Uncertain;Inability to concen...</td>\n",
       "      <td>Should be cancelled</td>\n",
       "      <td>I think most of us have got into colleges usin...</td>\n",
       "      <td>NaN</td>\n",
       "      <td>Karnataka</td>\n",
       "    </tr>\n",
       "    <tr>\n",
       "      <th>4</th>\n",
       "      <td>State Board</td>\n",
       "      <td>Anxious;Agitated;Uncertain;Confused;Stress</td>\n",
       "      <td>Should be cancelled</td>\n",
       "      <td>Safety is definitely the number one reason her...</td>\n",
       "      <td>NaN</td>\n",
       "      <td>Karnataka</td>\n",
       "    </tr>\n",
       "    <tr>\n",
       "      <th>5</th>\n",
       "      <td>CBSE</td>\n",
       "      <td>Depressed;Anxious;Inability to concentrate;Con...</td>\n",
       "      <td>Should be cancelled</td>\n",
       "      <td>Safety</td>\n",
       "      <td>NaN</td>\n",
       "      <td>Ahmedabad</td>\n",
       "    </tr>\n",
       "    <tr>\n",
       "      <th>6</th>\n",
       "      <td>State Board</td>\n",
       "      <td>Uncertain;Inability to concentrate;Confused</td>\n",
       "      <td>Cannot Say</td>\n",
       "      <td>NaN</td>\n",
       "      <td>NaN</td>\n",
       "      <td>State</td>\n",
       "    </tr>\n",
       "    <tr>\n",
       "      <th>...</th>\n",
       "      <td>...</td>\n",
       "      <td>...</td>\n",
       "      <td>...</td>\n",
       "      <td>...</td>\n",
       "      <td>...</td>\n",
       "      <td>...</td>\n",
       "    </tr>\n",
       "    <tr>\n",
       "      <th>42635</th>\n",
       "      <td>State Board</td>\n",
       "      <td>Happy</td>\n",
       "      <td>Should be cancelled</td>\n",
       "      <td>Not understand in online class</td>\n",
       "      <td>NaN</td>\n",
       "      <td>Bangalore</td>\n",
       "    </tr>\n",
       "    <tr>\n",
       "      <th>42636</th>\n",
       "      <td>State Board</td>\n",
       "      <td>Stress</td>\n",
       "      <td>Should be cancelled</td>\n",
       "      <td>Students cannot understand in online class . I...</td>\n",
       "      <td>NaN</td>\n",
       "      <td>Bengaluru</td>\n",
       "    </tr>\n",
       "    <tr>\n",
       "      <th>42637</th>\n",
       "      <td>CBSE</td>\n",
       "      <td>Stress</td>\n",
       "      <td>Should be cancelled</td>\n",
       "      <td>More number of families are affected and famil...</td>\n",
       "      <td>NaN</td>\n",
       "      <td>Tamilnadu</td>\n",
       "    </tr>\n",
       "    <tr>\n",
       "      <th>42638</th>\n",
       "      <td>CBSE</td>\n",
       "      <td>Depressed</td>\n",
       "      <td>Should be cancelled</td>\n",
       "      <td>I want to online exams...bcoz our parents woul...</td>\n",
       "      <td>NaN</td>\n",
       "      <td>Delhi</td>\n",
       "    </tr>\n",
       "    <tr>\n",
       "      <th>42639</th>\n",
       "      <td>CBSE</td>\n",
       "      <td>Depressed;Inability to concentrate;Confused;St...</td>\n",
       "      <td>Should be cancelled</td>\n",
       "      <td>Status of mind</td>\n",
       "      <td>NaN</td>\n",
       "      <td>Uttar Pradesh</td>\n",
       "    </tr>\n",
       "  </tbody>\n",
       "</table>\n",
       "<p>42633 rows × 6 columns</p>\n",
       "</div>"
      ],
      "text/plain": [
       "          syllabus                                            emotion  \\\n",
       "2             CBSE    Depressed;Anxious;Uncertain;Confused;Stress;Sad   \n",
       "3      State Board  Anxious;Agitated;Uncertain;Inability to concen...   \n",
       "4      State Board         Anxious;Agitated;Uncertain;Confused;Stress   \n",
       "5             CBSE  Depressed;Anxious;Inability to concentrate;Con...   \n",
       "6      State Board        Uncertain;Inability to concentrate;Confused   \n",
       "...            ...                                                ...   \n",
       "42635  State Board                                              Happy   \n",
       "42636  State Board                                             Stress   \n",
       "42637         CBSE                                             Stress   \n",
       "42638         CBSE                                          Depressed   \n",
       "42639         CBSE  Depressed;Inability to concentrate;Confused;St...   \n",
       "\n",
       "                   opinion                                  reason_cancelling  \\\n",
       "2      Should be cancelled                             Safety,status of mind    \n",
       "3      Should be cancelled  I think most of us have got into colleges usin...   \n",
       "4      Should be cancelled  Safety is definitely the number one reason her...   \n",
       "5      Should be cancelled                                             Safety   \n",
       "6               Cannot Say                                                NaN   \n",
       "...                    ...                                                ...   \n",
       "42635  Should be cancelled                    Not understand in online class    \n",
       "42636  Should be cancelled  Students cannot understand in online class . I...   \n",
       "42637  Should be cancelled  More number of families are affected and famil...   \n",
       "42638  Should be cancelled  I want to online exams...bcoz our parents woul...   \n",
       "42639  Should be cancelled                                     Status of mind   \n",
       "\n",
       "      reason_conducting_late          state  \n",
       "2                        NaN        Gujarat  \n",
       "3                        NaN      Karnataka  \n",
       "4                        NaN      Karnataka  \n",
       "5                        NaN      Ahmedabad  \n",
       "6                        NaN         State   \n",
       "...                      ...            ...  \n",
       "42635                    NaN      Bangalore  \n",
       "42636                    NaN      Bengaluru  \n",
       "42637                    NaN      Tamilnadu  \n",
       "42638                    NaN          Delhi  \n",
       "42639                    NaN  Uttar Pradesh  \n",
       "\n",
       "[42633 rows x 6 columns]"
      ]
     },
     "execution_count": 12,
     "metadata": {},
     "output_type": "execute_result"
    }
   ],
   "source": [
    "datanew = datanew.iloc[2:]\n",
    "datanew"
   ]
  },
  {
   "cell_type": "markdown",
   "metadata": {},
   "source": [
    "### Text Processing"
   ]
  },
  {
   "cell_type": "markdown",
   "metadata": {},
   "source": [
    "### Converting case into lower"
   ]
  },
  {
   "cell_type": "code",
   "execution_count": 13,
   "metadata": {},
   "outputs": [
    {
     "data": {
      "text/html": [
       "<div>\n",
       "<style scoped>\n",
       "    .dataframe tbody tr th:only-of-type {\n",
       "        vertical-align: middle;\n",
       "    }\n",
       "\n",
       "    .dataframe tbody tr th {\n",
       "        vertical-align: top;\n",
       "    }\n",
       "\n",
       "    .dataframe thead th {\n",
       "        text-align: right;\n",
       "    }\n",
       "</style>\n",
       "<table border=\"1\" class=\"dataframe\">\n",
       "  <thead>\n",
       "    <tr style=\"text-align: right;\">\n",
       "      <th></th>\n",
       "      <th>syllabus</th>\n",
       "      <th>emotion</th>\n",
       "      <th>opinion</th>\n",
       "      <th>reason_cancelling</th>\n",
       "      <th>reason_conducting_late</th>\n",
       "      <th>state</th>\n",
       "    </tr>\n",
       "  </thead>\n",
       "  <tbody>\n",
       "    <tr>\n",
       "      <th>2</th>\n",
       "      <td>cbse</td>\n",
       "      <td>depressed;anxious;uncertain;confused;stress;sad</td>\n",
       "      <td>should be cancelled</td>\n",
       "      <td>safety,status of mind</td>\n",
       "      <td>NaN</td>\n",
       "      <td>gujarat</td>\n",
       "    </tr>\n",
       "    <tr>\n",
       "      <th>3</th>\n",
       "      <td>state board</td>\n",
       "      <td>anxious;agitated;uncertain;inability to concen...</td>\n",
       "      <td>should be cancelled</td>\n",
       "      <td>i think most of us have got into colleges usin...</td>\n",
       "      <td>NaN</td>\n",
       "      <td>karnataka</td>\n",
       "    </tr>\n",
       "    <tr>\n",
       "      <th>4</th>\n",
       "      <td>state board</td>\n",
       "      <td>anxious;agitated;uncertain;confused;stress</td>\n",
       "      <td>should be cancelled</td>\n",
       "      <td>safety is definitely the number one reason her...</td>\n",
       "      <td>NaN</td>\n",
       "      <td>karnataka</td>\n",
       "    </tr>\n",
       "    <tr>\n",
       "      <th>5</th>\n",
       "      <td>cbse</td>\n",
       "      <td>depressed;anxious;inability to concentrate;con...</td>\n",
       "      <td>should be cancelled</td>\n",
       "      <td>safety</td>\n",
       "      <td>NaN</td>\n",
       "      <td>ahmedabad</td>\n",
       "    </tr>\n",
       "    <tr>\n",
       "      <th>6</th>\n",
       "      <td>state board</td>\n",
       "      <td>uncertain;inability to concentrate;confused</td>\n",
       "      <td>cannot say</td>\n",
       "      <td>NaN</td>\n",
       "      <td>NaN</td>\n",
       "      <td>state</td>\n",
       "    </tr>\n",
       "  </tbody>\n",
       "</table>\n",
       "</div>"
      ],
      "text/plain": [
       "      syllabus                                            emotion  \\\n",
       "2         cbse    depressed;anxious;uncertain;confused;stress;sad   \n",
       "3  state board  anxious;agitated;uncertain;inability to concen...   \n",
       "4  state board         anxious;agitated;uncertain;confused;stress   \n",
       "5         cbse  depressed;anxious;inability to concentrate;con...   \n",
       "6  state board        uncertain;inability to concentrate;confused   \n",
       "\n",
       "               opinion                                  reason_cancelling  \\\n",
       "2  should be cancelled                             safety,status of mind    \n",
       "3  should be cancelled  i think most of us have got into colleges usin...   \n",
       "4  should be cancelled  safety is definitely the number one reason her...   \n",
       "5  should be cancelled                                             safety   \n",
       "6           cannot say                                                NaN   \n",
       "\n",
       "  reason_conducting_late      state  \n",
       "2                    NaN    gujarat  \n",
       "3                    NaN  karnataka  \n",
       "4                    NaN  karnataka  \n",
       "5                    NaN  ahmedabad  \n",
       "6                    NaN     state   "
      ]
     },
     "execution_count": 13,
     "metadata": {},
     "output_type": "execute_result"
    }
   ],
   "source": [
    "for columns in datanew.columns:\n",
    "    datanew[columns] = datanew[columns].str.lower()\n",
    "    \n",
    "datanew.head(5)"
   ]
  },
  {
   "cell_type": "markdown",
   "metadata": {},
   "source": [
    "### Removing special characters"
   ]
  },
  {
   "cell_type": "code",
   "execution_count": 14,
   "metadata": {},
   "outputs": [],
   "source": [
    "def remove_special_characters(sentence,punctuation=False): \n",
    "    sentence = sentence.strip() \n",
    "    if punctuation: \n",
    "        PATTERN = string.punctuation\n",
    "        filtered_sentence = re.sub(PATTERN, r' ',sentence) \n",
    "    else: \n",
    "        PATTERN = r'[^a-zA-Z0-9 ]'  \n",
    "        filtered_sentence = re.sub(PATTERN, r' ',sentence) \n",
    "    return filtered_sentence"
   ]
  },
  {
   "cell_type": "code",
   "execution_count": 15,
   "metadata": {},
   "outputs": [],
   "source": [
    "opinions = datanew['opinion']\n",
    "syllabus = datanew['syllabus']\n",
    "emotions = datanew['emotion']"
   ]
  },
  {
   "cell_type": "code",
   "execution_count": 17,
   "metadata": {},
   "outputs": [],
   "source": [
    "cleaned_emotions = [remove_special_characters(sentence) for sentence in emotions] "
   ]
  },
  {
   "cell_type": "markdown",
   "metadata": {},
   "source": [
    "# Lexicon based sentiment analysis"
   ]
  },
  {
   "cell_type": "markdown",
   "metadata": {},
   "source": [
    "## Appropriate method used Vader Lexicon Sentiment Analysis"
   ]
  },
  {
   "cell_type": "markdown",
   "metadata": {},
   "source": [
    "### Identifying the negative, positive, neutral and compound score of each response "
   ]
  },
  {
   "cell_type": "code",
   "execution_count": 18,
   "metadata": {},
   "outputs": [],
   "source": [
    "neg = []\n",
    "pos = []\n",
    "neu = []\n",
    "compound_score = []\n",
    "\n",
    "analyzer = SentimentIntensityAnalyzer()\n",
    "for cleaned_emotion in cleaned_emotions:\n",
    "    vs = analyzer.polarity_scores(cleaned_emotion)\n",
    "    negative = vs['neg']\n",
    "    positive = vs['pos']\n",
    "    neutral = vs['neu']\n",
    "    compound = vs['compound']\n",
    "    neg.append(float(negative))\n",
    "    pos.append(float(positive))\n",
    "    neu.append(float(neutral))\n",
    "    compound_score.append(compound)"
   ]
  },
  {
   "cell_type": "markdown",
   "metadata": {},
   "source": [
    "### New dataset regarding sentiment of each student response"
   ]
  },
  {
   "cell_type": "code",
   "execution_count": 19,
   "metadata": {
    "scrolled": true
   },
   "outputs": [
    {
     "data": {
      "text/html": [
       "<div>\n",
       "<style scoped>\n",
       "    .dataframe tbody tr th:only-of-type {\n",
       "        vertical-align: middle;\n",
       "    }\n",
       "\n",
       "    .dataframe tbody tr th {\n",
       "        vertical-align: top;\n",
       "    }\n",
       "\n",
       "    .dataframe thead th {\n",
       "        text-align: right;\n",
       "    }\n",
       "</style>\n",
       "<table border=\"1\" class=\"dataframe\">\n",
       "  <thead>\n",
       "    <tr style=\"text-align: right;\">\n",
       "      <th></th>\n",
       "      <th>syllabus</th>\n",
       "      <th>emotions</th>\n",
       "      <th>opinions</th>\n",
       "      <th>emotions_with_punct</th>\n",
       "      <th>neg</th>\n",
       "      <th>pos</th>\n",
       "      <th>neu</th>\n",
       "      <th>compound</th>\n",
       "    </tr>\n",
       "  </thead>\n",
       "  <tbody>\n",
       "    <tr>\n",
       "      <th>2</th>\n",
       "      <td>cbse</td>\n",
       "      <td>depressed anxious uncertain confused stress sad</td>\n",
       "      <td>should be cancelled</td>\n",
       "      <td>depressed;anxious;uncertain;confused;stress;sad</td>\n",
       "      <td>1.000</td>\n",
       "      <td>0.0</td>\n",
       "      <td>0.000</td>\n",
       "      <td>-0.9287</td>\n",
       "    </tr>\n",
       "    <tr>\n",
       "      <th>3</th>\n",
       "      <td>state board</td>\n",
       "      <td>anxious agitated uncertain inability to concen...</td>\n",
       "      <td>should be cancelled</td>\n",
       "      <td>anxious;agitated;uncertain;inability to concen...</td>\n",
       "      <td>0.882</td>\n",
       "      <td>0.0</td>\n",
       "      <td>0.118</td>\n",
       "      <td>-0.9186</td>\n",
       "    </tr>\n",
       "    <tr>\n",
       "      <th>4</th>\n",
       "      <td>state board</td>\n",
       "      <td>anxious agitated uncertain confused stress</td>\n",
       "      <td>should be cancelled</td>\n",
       "      <td>anxious;agitated;uncertain;confused;stress</td>\n",
       "      <td>1.000</td>\n",
       "      <td>0.0</td>\n",
       "      <td>0.000</td>\n",
       "      <td>-0.8834</td>\n",
       "    </tr>\n",
       "    <tr>\n",
       "      <th>5</th>\n",
       "      <td>cbse</td>\n",
       "      <td>depressed anxious inability to concentrate con...</td>\n",
       "      <td>should be cancelled</td>\n",
       "      <td>depressed;anxious;inability to concentrate;con...</td>\n",
       "      <td>0.868</td>\n",
       "      <td>0.0</td>\n",
       "      <td>0.132</td>\n",
       "      <td>-0.9022</td>\n",
       "    </tr>\n",
       "    <tr>\n",
       "      <th>6</th>\n",
       "      <td>state board</td>\n",
       "      <td>uncertain inability to concentrate confused</td>\n",
       "      <td>cannot say</td>\n",
       "      <td>uncertain;inability to concentrate;confused</td>\n",
       "      <td>0.783</td>\n",
       "      <td>0.0</td>\n",
       "      <td>0.217</td>\n",
       "      <td>-0.7351</td>\n",
       "    </tr>\n",
       "  </tbody>\n",
       "</table>\n",
       "</div>"
      ],
      "text/plain": [
       "      syllabus                                           emotions  \\\n",
       "2         cbse    depressed anxious uncertain confused stress sad   \n",
       "3  state board  anxious agitated uncertain inability to concen...   \n",
       "4  state board         anxious agitated uncertain confused stress   \n",
       "5         cbse  depressed anxious inability to concentrate con...   \n",
       "6  state board        uncertain inability to concentrate confused   \n",
       "\n",
       "              opinions                                emotions_with_punct  \\\n",
       "2  should be cancelled    depressed;anxious;uncertain;confused;stress;sad   \n",
       "3  should be cancelled  anxious;agitated;uncertain;inability to concen...   \n",
       "4  should be cancelled         anxious;agitated;uncertain;confused;stress   \n",
       "5  should be cancelled  depressed;anxious;inability to concentrate;con...   \n",
       "6           cannot say        uncertain;inability to concentrate;confused   \n",
       "\n",
       "     neg  pos    neu  compound  \n",
       "2  1.000  0.0  0.000   -0.9287  \n",
       "3  0.882  0.0  0.118   -0.9186  \n",
       "4  1.000  0.0  0.000   -0.8834  \n",
       "5  0.868  0.0  0.132   -0.9022  \n",
       "6  0.783  0.0  0.217   -0.7351  "
      ]
     },
     "execution_count": 19,
     "metadata": {},
     "output_type": "execute_result"
    }
   ],
   "source": [
    "analysis = {'syllabus': syllabus,'emotions': cleaned_emotions,'opinions': opinions,'emotions_with_punct': emotions,'neg': neg,'pos': pos,'neu': neu,'compound': compound_score} \n",
    "sentiments = pd.DataFrame(analysis, columns= ['syllabus','emotions','opinions','emotions_with_punct','neg','pos','neu','compound'])\n",
    "sentiments.head(5)"
   ]
  },
  {
   "cell_type": "code",
   "execution_count": 20,
   "metadata": {},
   "outputs": [
    {
     "data": {
      "text/html": [
       "<div>\n",
       "<style scoped>\n",
       "    .dataframe tbody tr th:only-of-type {\n",
       "        vertical-align: middle;\n",
       "    }\n",
       "\n",
       "    .dataframe tbody tr th {\n",
       "        vertical-align: top;\n",
       "    }\n",
       "\n",
       "    .dataframe thead th {\n",
       "        text-align: right;\n",
       "    }\n",
       "</style>\n",
       "<table border=\"1\" class=\"dataframe\">\n",
       "  <thead>\n",
       "    <tr style=\"text-align: right;\">\n",
       "      <th></th>\n",
       "      <th>syllabus</th>\n",
       "      <th>emotions</th>\n",
       "      <th>opinions</th>\n",
       "      <th>emotions_with_punct</th>\n",
       "      <th>neg</th>\n",
       "      <th>pos</th>\n",
       "      <th>neu</th>\n",
       "      <th>compound</th>\n",
       "      <th>sentiment</th>\n",
       "    </tr>\n",
       "  </thead>\n",
       "  <tbody>\n",
       "    <tr>\n",
       "      <th>2</th>\n",
       "      <td>cbse</td>\n",
       "      <td>depressed anxious uncertain confused stress sad</td>\n",
       "      <td>should be cancelled</td>\n",
       "      <td>depressed;anxious;uncertain;confused;stress;sad</td>\n",
       "      <td>1.000</td>\n",
       "      <td>0.0</td>\n",
       "      <td>0.000</td>\n",
       "      <td>-0.9287</td>\n",
       "      <td>negative</td>\n",
       "    </tr>\n",
       "    <tr>\n",
       "      <th>3</th>\n",
       "      <td>state board</td>\n",
       "      <td>anxious agitated uncertain inability to concen...</td>\n",
       "      <td>should be cancelled</td>\n",
       "      <td>anxious;agitated;uncertain;inability to concen...</td>\n",
       "      <td>0.882</td>\n",
       "      <td>0.0</td>\n",
       "      <td>0.118</td>\n",
       "      <td>-0.9186</td>\n",
       "      <td>negative</td>\n",
       "    </tr>\n",
       "    <tr>\n",
       "      <th>4</th>\n",
       "      <td>state board</td>\n",
       "      <td>anxious agitated uncertain confused stress</td>\n",
       "      <td>should be cancelled</td>\n",
       "      <td>anxious;agitated;uncertain;confused;stress</td>\n",
       "      <td>1.000</td>\n",
       "      <td>0.0</td>\n",
       "      <td>0.000</td>\n",
       "      <td>-0.8834</td>\n",
       "      <td>negative</td>\n",
       "    </tr>\n",
       "    <tr>\n",
       "      <th>5</th>\n",
       "      <td>cbse</td>\n",
       "      <td>depressed anxious inability to concentrate con...</td>\n",
       "      <td>should be cancelled</td>\n",
       "      <td>depressed;anxious;inability to concentrate;con...</td>\n",
       "      <td>0.868</td>\n",
       "      <td>0.0</td>\n",
       "      <td>0.132</td>\n",
       "      <td>-0.9022</td>\n",
       "      <td>negative</td>\n",
       "    </tr>\n",
       "    <tr>\n",
       "      <th>6</th>\n",
       "      <td>state board</td>\n",
       "      <td>uncertain inability to concentrate confused</td>\n",
       "      <td>cannot say</td>\n",
       "      <td>uncertain;inability to concentrate;confused</td>\n",
       "      <td>0.783</td>\n",
       "      <td>0.0</td>\n",
       "      <td>0.217</td>\n",
       "      <td>-0.7351</td>\n",
       "      <td>negative</td>\n",
       "    </tr>\n",
       "  </tbody>\n",
       "</table>\n",
       "</div>"
      ],
      "text/plain": [
       "      syllabus                                           emotions  \\\n",
       "2         cbse    depressed anxious uncertain confused stress sad   \n",
       "3  state board  anxious agitated uncertain inability to concen...   \n",
       "4  state board         anxious agitated uncertain confused stress   \n",
       "5         cbse  depressed anxious inability to concentrate con...   \n",
       "6  state board        uncertain inability to concentrate confused   \n",
       "\n",
       "              opinions                                emotions_with_punct  \\\n",
       "2  should be cancelled    depressed;anxious;uncertain;confused;stress;sad   \n",
       "3  should be cancelled  anxious;agitated;uncertain;inability to concen...   \n",
       "4  should be cancelled         anxious;agitated;uncertain;confused;stress   \n",
       "5  should be cancelled  depressed;anxious;inability to concentrate;con...   \n",
       "6           cannot say        uncertain;inability to concentrate;confused   \n",
       "\n",
       "     neg  pos    neu  compound sentiment  \n",
       "2  1.000  0.0  0.000   -0.9287  negative  \n",
       "3  0.882  0.0  0.118   -0.9186  negative  \n",
       "4  1.000  0.0  0.000   -0.8834  negative  \n",
       "5  0.868  0.0  0.132   -0.9022  negative  \n",
       "6  0.783  0.0  0.217   -0.7351  negative  "
      ]
     },
     "execution_count": 20,
     "metadata": {},
     "output_type": "execute_result"
    }
   ],
   "source": [
    "sentiments['sentiment'] = 'neutral'\n",
    "sentiments.loc[sentiments['compound'] >= 0.05, 'sentiment'] = 'positive'\n",
    "sentiments.loc[sentiments['compound'] <= -0.05, 'sentiment'] = 'negative'\n",
    "sentiments.head(5)"
   ]
  },
  {
   "cell_type": "markdown",
   "metadata": {},
   "source": [
    "### Data Visualization of students sentiments in a bar graph"
   ]
  },
  {
   "cell_type": "code",
   "execution_count": 21,
   "metadata": {},
   "outputs": [
    {
     "data": {
      "text/plain": [
       "negative    39072\n",
       "positive     2542\n",
       "neutral      1019\n",
       "Name: sentiment, dtype: int64"
      ]
     },
     "execution_count": 21,
     "metadata": {},
     "output_type": "execute_result"
    }
   ],
   "source": [
    "no_of_students = sentiments['sentiment'].value_counts()\n",
    "no_of_students"
   ]
  },
  {
   "cell_type": "code",
   "execution_count": 22,
   "metadata": {},
   "outputs": [
    {
     "data": {
      "text/plain": [
       "42633"
      ]
     },
     "execution_count": 22,
     "metadata": {},
     "output_type": "execute_result"
    }
   ],
   "source": [
    "len(sentiments)"
   ]
  },
  {
   "cell_type": "code",
   "execution_count": 54,
   "metadata": {},
   "outputs": [
    {
     "data": {
      "image/png": "[encoded data removed]",
      "text/plain": [
       "<Figure size 432x288 with 1 Axes>"
      ]
     },
     "metadata": {},
     "output_type": "display_data"
    }
   ],
   "source": [
    "ax = sns.countplot(x = \"sentiment\", data = sentiments)\n",
    "\n",
    "for p in ax.patches:\n",
    "    ax.annotate('{:.1f}'.format(p.get_height()), (p.get_x()+0.25, p.get_height()+0.01))\n",
    "\n",
    "plt.xlabel(\"Sentiments\", labelpad=16)\n",
    "plt.ylabel(\"Count of Students\", labelpad=16)\n",
    "plt.title(\"Number of students feeling negative, positive or neutral type of sentiments from the sample size\", y=1.05)\n",
    "plt.show()"
   ]
  },
  {
   "cell_type": "code",
   "execution_count": 24,
   "metadata": {},
   "outputs": [
    {
     "data": {
      "text/plain": [
       "state board    24566\n",
       "cbse           16580\n",
       "icse            1126\n",
       "any other        351\n",
       "ib                10\n",
       "Name: syllabus, dtype: int64"
      ]
     },
     "execution_count": 24,
     "metadata": {},
     "output_type": "execute_result"
    }
   ],
   "source": [
    "no_of_students_syllabus = sentiments['syllabus'].value_counts()\n",
    "no_of_students_syllabus"
   ]
  },
  {
   "cell_type": "code",
   "execution_count": 56,
   "metadata": {},
   "outputs": [
    {
     "data": {
      "image/png": "[encoded data removed]",
      "text/plain": [
       "<Figure size 1080x432 with 1 Axes>"
      ]
     },
     "metadata": {},
     "output_type": "display_data"
    }
   ],
   "source": [
    "fig, ax = plt.subplots(figsize=(15,6))\n",
    "sns.countplot(data=sentiments, x=sentiments['syllabus'], hue=sentiments['sentiment'], ax=ax)\n",
    "plt.xlabel(\"Syllabus\", labelpad=16)\n",
    "plt.ylabel(\"Number of Students\", labelpad=16)\n",
    "plt.title(\"Number of students feeling different type of sentiments based on syllabus in the sample data\", y=1.05);"
   ]
  },
  {
   "cell_type": "markdown",
   "metadata": {},
   "source": [
    "### Finding number of times a student has used a keyword and grouping it by their sentiments"
   ]
  },
  {
   "cell_type": "markdown",
   "metadata": {},
   "source": [
    "### Splitting the words"
   ]
  },
  {
   "cell_type": "code",
   "execution_count": 58,
   "metadata": {},
   "outputs": [
    {
     "data": {
      "text/plain": [
       "2          depressed;anxious;uncertain;confused;stress;sad\n",
       "3        anxious;agitated;uncertain;inability to concen...\n",
       "4               anxious;agitated;uncertain;confused;stress\n",
       "5        depressed;anxious;inability to concentrate;con...\n",
       "6              uncertain;inability to concentrate;confused\n",
       "                               ...                        \n",
       "42635                                                happy\n",
       "42636                                               stress\n",
       "42637                                               stress\n",
       "42638                                            depressed\n",
       "42639    depressed;inability to concentrate;confused;st...\n",
       "Name: emotions_with_punct, Length: 42633, dtype: object"
      ]
     },
     "execution_count": 58,
     "metadata": {},
     "output_type": "execute_result"
    }
   ],
   "source": [
    "sentiments['emotions_with_punct']"
   ]
  },
  {
   "cell_type": "code",
   "execution_count": 59,
   "metadata": {},
   "outputs": [
    {
     "data": {
      "text/plain": [
       "2        [depressed, anxious, uncertain, confused, stre...\n",
       "3        [anxious, agitated, uncertain, inability to co...\n",
       "4         [anxious, agitated, uncertain, confused, stress]\n",
       "5        [depressed, anxious, inability to concentrate,...\n",
       "6          [uncertain, inability to concentrate, confused]\n",
       "                               ...                        \n",
       "42635                                              [happy]\n",
       "42636                                             [stress]\n",
       "42637                                             [stress]\n",
       "42638                                          [depressed]\n",
       "42639    [depressed, inability to concentrate, confused...\n",
       "Name: emotions_with_punct, Length: 42633, dtype: object"
      ]
     },
     "execution_count": 59,
     "metadata": {},
     "output_type": "execute_result"
    }
   ],
   "source": [
    "split_emotions = sentiments['emotions_with_punct'].str.split(\";\")\n",
    "split_emotions"
   ]
  },
  {
   "cell_type": "markdown",
   "metadata": {},
   "source": [
    "### Word Frequency grouped by negative, neutral and positive sentiments"
   ]
  },
  {
   "cell_type": "code",
   "execution_count": 60,
   "metadata": {},
   "outputs": [
    {
     "data": {
      "text/plain": [
       "sentiment  words                    \n",
       "negative   stress                       24675\n",
       "           confused                     23917\n",
       "           inability to concentrate     19889\n",
       "           depressed                    18377\n",
       "           sad                          13712\n",
       "           anxious                      12314\n",
       "           uncertain                     9836\n",
       "           agitated                      5473\n",
       "           more time for preparation     3975\n",
       "           excited                        802\n",
       "           relieved                       632\n",
       "           happy                          607\n",
       "neutral    more time for preparation      944\n",
       "           excited                         82\n",
       "           confused                        79\n",
       "           inability to concentrate        19\n",
       "           relieved                        17\n",
       "           happy                           11\n",
       "           anxious                          5\n",
       "           depressed                        4\n",
       "           stress                           4\n",
       "           uncertain                        4\n",
       "           sad                              2\n",
       "positive   happy                         1686\n",
       "           excited                        913\n",
       "           relieved                       620\n",
       "           more time for preparation      304\n",
       "           confused                       246\n",
       "           anxious                         92\n",
       "           stress                          78\n",
       "           uncertain                       76\n",
       "           inability to concentrate        69\n",
       "           sad                             38\n",
       "           depressed                       32\n",
       "           agitated                        14\n",
       "Name: words, dtype: int64"
      ]
     },
     "execution_count": 60,
     "metadata": {},
     "output_type": "execute_result"
    }
   ],
   "source": [
    "sentiments['words'] = split_emotions\n",
    "word_frequency = sentiments.explode('words').groupby('sentiment')['words'].value_counts()\n",
    "word_frequency"
   ]
  },
  {
   "cell_type": "markdown",
   "metadata": {},
   "source": [
    "### Assigning the variables"
   ]
  },
  {
   "cell_type": "code",
   "execution_count": 61,
   "metadata": {},
   "outputs": [],
   "source": [
    "word_frequency_negative = word_frequency['negative']\n",
    "word_frequency_positive = word_frequency['positive']\n",
    "word_frequency_neutral = word_frequency['neutral']"
   ]
  },
  {
   "cell_type": "markdown",
   "metadata": {},
   "source": [
    "## Data Visualization (Word Frequency)"
   ]
  },
  {
   "cell_type": "code",
   "execution_count": 64,
   "metadata": {},
   "outputs": [
    {
     "data": {
      "text/plain": [
       "Text(0.5, 1.05, 'Number of times a negative sentiment student used the following keyword')"
      ]
     },
     "execution_count": 64,
     "metadata": {},
     "output_type": "execute_result"
    },
    {
     "data": {
      "image/png": "[encoded data removed]",
      "text/plain": [
       "<Figure size 504x432 with 1 Axes>"
      ]
     },
     "metadata": {},
     "output_type": "display_data"
    }
   ],
   "source": [
    "sns.set(font_scale=1.8)\n",
    "ax = word_frequency_negative.plot(kind='bar', figsize=(7, 6), rot=0)\n",
    "plt.xlabel(\"Words used\", labelpad=16)\n",
    "plt.xticks(fontsize=12, rotation = '90')\n",
    "plt.ylabel(\"Number of times used\", labelpad=16)\n",
    "plt.title(\"Number of times a negative sentiment student used the following keyword\", y=1.05)"
   ]
  },
  {
   "cell_type": "code",
   "execution_count": 65,
   "metadata": {},
   "outputs": [
    {
     "data": {
      "text/plain": [
       "Text(0.5, 1.05, 'Number of times a positive sentiment student used the following keyword')"
      ]
     },
     "execution_count": 65,
     "metadata": {},
     "output_type": "execute_result"
    },
    {
     "data": {
      "image/png": "[encoded data removed]",
      "text/plain": [
       "<Figure size 504x432 with 1 Axes>"
      ]
     },
     "metadata": {},
     "output_type": "display_data"
    }
   ],
   "source": [
    "sns.set(font_scale=1.8)\n",
    "ax = word_frequency_positive.plot(kind='bar', figsize=(7, 6), rot=0)\n",
    "plt.xlabel(\"Words used\", labelpad=16)\n",
    "plt.xticks(fontsize=12, rotation = '90')\n",
    "plt.ylabel(\"Number of times used\", labelpad=16)\n",
    "plt.title(\"Number of times a positive sentiment student used the following keyword\", y=1.05)"
   ]
  },
  {
   "cell_type": "code",
   "execution_count": 66,
   "metadata": {},
   "outputs": [
    {
     "data": {
      "text/plain": [
       "Text(0.5, 1.05, 'Number of times a neutral sentiment student used the following keyword')"
      ]
     },
     "execution_count": 66,
     "metadata": {},
     "output_type": "execute_result"
    },
    {
     "data": {
      "image/png": "[encoded data removed]",
      "text/plain": [
       "<Figure size 504x432 with 1 Axes>"
      ]
     },
     "metadata": {},
     "output_type": "display_data"
    }
   ],
   "source": [
    "sns.set(font_scale=1.8)\n",
    "ax = word_frequency_neutral.plot(kind='bar', figsize=(7, 6), rot=0)\n",
    "plt.xlabel(\"Words used\", labelpad=16)\n",
    "plt.xticks(fontsize=12, rotation = '90')\n",
    "plt.ylabel(\"Number of times used\", labelpad=16)\n",
    "plt.title(\"Number of times a neutral sentiment student used the following keyword\", y=1.05)"
   ]
  },
  {
   "cell_type": "markdown",
   "metadata": {},
   "source": [
    "# Combination of 2 and 3 words"
   ]
  },
  {
   "cell_type": "code",
   "execution_count": 67,
   "metadata": {},
   "outputs": [
    {
     "data": {
      "text/html": [
       "<div>\n",
       "<style scoped>\n",
       "    .dataframe tbody tr th:only-of-type {\n",
       "        vertical-align: middle;\n",
       "    }\n",
       "\n",
       "    .dataframe tbody tr th {\n",
       "        vertical-align: top;\n",
       "    }\n",
       "\n",
       "    .dataframe thead th {\n",
       "        text-align: right;\n",
       "    }\n",
       "</style>\n",
       "<table border=\"1\" class=\"dataframe\">\n",
       "  <thead>\n",
       "    <tr style=\"text-align: right;\">\n",
       "      <th></th>\n",
       "      <th>syllabus</th>\n",
       "      <th>emotions</th>\n",
       "      <th>opinions</th>\n",
       "      <th>emotions_with_punct</th>\n",
       "      <th>neg</th>\n",
       "      <th>pos</th>\n",
       "      <th>neu</th>\n",
       "      <th>compound</th>\n",
       "      <th>sentiment</th>\n",
       "      <th>words</th>\n",
       "    </tr>\n",
       "  </thead>\n",
       "  <tbody>\n",
       "    <tr>\n",
       "      <th>2</th>\n",
       "      <td>cbse</td>\n",
       "      <td>depressed anxious uncertain confused stress sad</td>\n",
       "      <td>should be cancelled</td>\n",
       "      <td>depressed;anxious;uncertain;confused;stress;sad</td>\n",
       "      <td>1.000</td>\n",
       "      <td>0.0</td>\n",
       "      <td>0.000</td>\n",
       "      <td>-0.9287</td>\n",
       "      <td>negative</td>\n",
       "      <td>[depressed, anxious, uncertain, confused, stre...</td>\n",
       "    </tr>\n",
       "    <tr>\n",
       "      <th>3</th>\n",
       "      <td>state board</td>\n",
       "      <td>anxious agitated uncertain inability to concen...</td>\n",
       "      <td>should be cancelled</td>\n",
       "      <td>anxious;agitated;uncertain;inability to concen...</td>\n",
       "      <td>0.882</td>\n",
       "      <td>0.0</td>\n",
       "      <td>0.118</td>\n",
       "      <td>-0.9186</td>\n",
       "      <td>negative</td>\n",
       "      <td>[anxious, agitated, uncertain, inability to co...</td>\n",
       "    </tr>\n",
       "    <tr>\n",
       "      <th>4</th>\n",
       "      <td>state board</td>\n",
       "      <td>anxious agitated uncertain confused stress</td>\n",
       "      <td>should be cancelled</td>\n",
       "      <td>anxious;agitated;uncertain;confused;stress</td>\n",
       "      <td>1.000</td>\n",
       "      <td>0.0</td>\n",
       "      <td>0.000</td>\n",
       "      <td>-0.8834</td>\n",
       "      <td>negative</td>\n",
       "      <td>[anxious, agitated, uncertain, confused, stress]</td>\n",
       "    </tr>\n",
       "  </tbody>\n",
       "</table>\n",
       "</div>"
      ],
      "text/plain": [
       "      syllabus                                           emotions  \\\n",
       "2         cbse    depressed anxious uncertain confused stress sad   \n",
       "3  state board  anxious agitated uncertain inability to concen...   \n",
       "4  state board         anxious agitated uncertain confused stress   \n",
       "\n",
       "              opinions                                emotions_with_punct  \\\n",
       "2  should be cancelled    depressed;anxious;uncertain;confused;stress;sad   \n",
       "3  should be cancelled  anxious;agitated;uncertain;inability to concen...   \n",
       "4  should be cancelled         anxious;agitated;uncertain;confused;stress   \n",
       "\n",
       "     neg  pos    neu  compound sentiment  \\\n",
       "2  1.000  0.0  0.000   -0.9287  negative   \n",
       "3  0.882  0.0  0.118   -0.9186  negative   \n",
       "4  1.000  0.0  0.000   -0.8834  negative   \n",
       "\n",
       "                                               words  \n",
       "2  [depressed, anxious, uncertain, confused, stre...  \n",
       "3  [anxious, agitated, uncertain, inability to co...  \n",
       "4   [anxious, agitated, uncertain, confused, stress]  "
      ]
     },
     "execution_count": 67,
     "metadata": {},
     "output_type": "execute_result"
    }
   ],
   "source": [
    "sentiments.head(3)"
   ]
  },
  {
   "cell_type": "markdown",
   "metadata": {},
   "source": [
    "### Converting emotions into short forms"
   ]
  },
  {
   "cell_type": "code",
   "execution_count": 68,
   "metadata": {},
   "outputs": [],
   "source": [
    "shortform = sentiments['emotions']"
   ]
  },
  {
   "cell_type": "code",
   "execution_count": 69,
   "metadata": {},
   "outputs": [
    {
     "data": {
      "text/plain": [
       "2        depressed anxious uncertain confused stress sad\n",
       "3         anxious agitated uncertain ITC confused stress\n",
       "4             anxious agitated uncertain confused stress\n",
       "5                  depressed anxious ITC confused stress\n",
       "6                                 uncertain ITC confused\n",
       "                              ...                       \n",
       "42635                                              happy\n",
       "42636                                             stress\n",
       "42637                                             stress\n",
       "42638                                          depressed\n",
       "42639                  depressed ITC confused stress sad\n",
       "Name: emotions, Length: 42633, dtype: object"
      ]
     },
     "execution_count": 69,
     "metadata": {},
     "output_type": "execute_result"
    }
   ],
   "source": [
    "sentiments['emotions'] = [w.replace('inability to concentrate', 'ITC') for w in shortform] \n",
    "sentiments['emotions'] = [w.replace('more time for preparation', 'MTFP') for w in shortform] \n",
    "sentiments['emotions']"
   ]
  },
  {
   "cell_type": "code",
   "execution_count": 70,
   "metadata": {},
   "outputs": [
    {
     "data": {
      "text/html": [
       "<div>\n",
       "<style scoped>\n",
       "    .dataframe tbody tr th:only-of-type {\n",
       "        vertical-align: middle;\n",
       "    }\n",
       "\n",
       "    .dataframe tbody tr th {\n",
       "        vertical-align: top;\n",
       "    }\n",
       "\n",
       "    .dataframe thead th {\n",
       "        text-align: right;\n",
       "    }\n",
       "</style>\n",
       "<table border=\"1\" class=\"dataframe\">\n",
       "  <thead>\n",
       "    <tr style=\"text-align: right;\">\n",
       "      <th></th>\n",
       "      <th>syllabus</th>\n",
       "      <th>emotions</th>\n",
       "      <th>opinions</th>\n",
       "      <th>emotions_with_punct</th>\n",
       "      <th>neg</th>\n",
       "      <th>pos</th>\n",
       "      <th>neu</th>\n",
       "      <th>compound</th>\n",
       "      <th>sentiment</th>\n",
       "      <th>words</th>\n",
       "    </tr>\n",
       "  </thead>\n",
       "  <tbody>\n",
       "    <tr>\n",
       "      <th>2</th>\n",
       "      <td>cbse</td>\n",
       "      <td>depressed anxious uncertain confused stress sad</td>\n",
       "      <td>should be cancelled</td>\n",
       "      <td>depressed;anxious;uncertain;confused;stress;sad</td>\n",
       "      <td>1.000</td>\n",
       "      <td>0.0</td>\n",
       "      <td>0.000</td>\n",
       "      <td>-0.9287</td>\n",
       "      <td>negative</td>\n",
       "      <td>[depressed, anxious, uncertain, confused, stre...</td>\n",
       "    </tr>\n",
       "    <tr>\n",
       "      <th>3</th>\n",
       "      <td>state board</td>\n",
       "      <td>anxious agitated uncertain ITC confused stress</td>\n",
       "      <td>should be cancelled</td>\n",
       "      <td>anxious;agitated;uncertain;inability to concen...</td>\n",
       "      <td>0.882</td>\n",
       "      <td>0.0</td>\n",
       "      <td>0.118</td>\n",
       "      <td>-0.9186</td>\n",
       "      <td>negative</td>\n",
       "      <td>[anxious, agitated, uncertain, inability to co...</td>\n",
       "    </tr>\n",
       "    <tr>\n",
       "      <th>4</th>\n",
       "      <td>state board</td>\n",
       "      <td>anxious agitated uncertain confused stress</td>\n",
       "      <td>should be cancelled</td>\n",
       "      <td>anxious;agitated;uncertain;confused;stress</td>\n",
       "      <td>1.000</td>\n",
       "      <td>0.0</td>\n",
       "      <td>0.000</td>\n",
       "      <td>-0.8834</td>\n",
       "      <td>negative</td>\n",
       "      <td>[anxious, agitated, uncertain, confused, stress]</td>\n",
       "    </tr>\n",
       "    <tr>\n",
       "      <th>5</th>\n",
       "      <td>cbse</td>\n",
       "      <td>depressed anxious ITC confused stress</td>\n",
       "      <td>should be cancelled</td>\n",
       "      <td>depressed;anxious;inability to concentrate;con...</td>\n",
       "      <td>0.868</td>\n",
       "      <td>0.0</td>\n",
       "      <td>0.132</td>\n",
       "      <td>-0.9022</td>\n",
       "      <td>negative</td>\n",
       "      <td>[depressed, anxious, inability to concentrate,...</td>\n",
       "    </tr>\n",
       "    <tr>\n",
       "      <th>6</th>\n",
       "      <td>state board</td>\n",
       "      <td>uncertain ITC confused</td>\n",
       "      <td>cannot say</td>\n",
       "      <td>uncertain;inability to concentrate;confused</td>\n",
       "      <td>0.783</td>\n",
       "      <td>0.0</td>\n",
       "      <td>0.217</td>\n",
       "      <td>-0.7351</td>\n",
       "      <td>negative</td>\n",
       "      <td>[uncertain, inability to concentrate, confused]</td>\n",
       "    </tr>\n",
       "  </tbody>\n",
       "</table>\n",
       "</div>"
      ],
      "text/plain": [
       "      syllabus                                         emotions  \\\n",
       "2         cbse  depressed anxious uncertain confused stress sad   \n",
       "3  state board   anxious agitated uncertain ITC confused stress   \n",
       "4  state board       anxious agitated uncertain confused stress   \n",
       "5         cbse            depressed anxious ITC confused stress   \n",
       "6  state board                           uncertain ITC confused   \n",
       "\n",
       "              opinions                                emotions_with_punct  \\\n",
       "2  should be cancelled    depressed;anxious;uncertain;confused;stress;sad   \n",
       "3  should be cancelled  anxious;agitated;uncertain;inability to concen...   \n",
       "4  should be cancelled         anxious;agitated;uncertain;confused;stress   \n",
       "5  should be cancelled  depressed;anxious;inability to concentrate;con...   \n",
       "6           cannot say        uncertain;inability to concentrate;confused   \n",
       "\n",
       "     neg  pos    neu  compound sentiment  \\\n",
       "2  1.000  0.0  0.000   -0.9287  negative   \n",
       "3  0.882  0.0  0.118   -0.9186  negative   \n",
       "4  1.000  0.0  0.000   -0.8834  negative   \n",
       "5  0.868  0.0  0.132   -0.9022  negative   \n",
       "6  0.783  0.0  0.217   -0.7351  negative   \n",
       "\n",
       "                                               words  \n",
       "2  [depressed, anxious, uncertain, confused, stre...  \n",
       "3  [anxious, agitated, uncertain, inability to co...  \n",
       "4   [anxious, agitated, uncertain, confused, stress]  \n",
       "5  [depressed, anxious, inability to concentrate,...  \n",
       "6    [uncertain, inability to concentrate, confused]  "
      ]
     },
     "execution_count": 70,
     "metadata": {},
     "output_type": "execute_result"
    }
   ],
   "source": [
    "sentiments.head(5)"
   ]
  },
  {
   "cell_type": "markdown",
   "metadata": {},
   "source": [
    "### Identifying number of words used"
   ]
  },
  {
   "cell_type": "code",
   "execution_count": 71,
   "metadata": {},
   "outputs": [
    {
     "data": {
      "text/html": [
       "<div>\n",
       "<style scoped>\n",
       "    .dataframe tbody tr th:only-of-type {\n",
       "        vertical-align: middle;\n",
       "    }\n",
       "\n",
       "    .dataframe tbody tr th {\n",
       "        vertical-align: top;\n",
       "    }\n",
       "\n",
       "    .dataframe thead th {\n",
       "        text-align: right;\n",
       "    }\n",
       "</style>\n",
       "<table border=\"1\" class=\"dataframe\">\n",
       "  <thead>\n",
       "    <tr style=\"text-align: right;\">\n",
       "      <th></th>\n",
       "      <th>syllabus</th>\n",
       "      <th>emotions</th>\n",
       "      <th>opinions</th>\n",
       "      <th>emotions_with_punct</th>\n",
       "      <th>neg</th>\n",
       "      <th>pos</th>\n",
       "      <th>neu</th>\n",
       "      <th>compound</th>\n",
       "      <th>sentiment</th>\n",
       "      <th>words</th>\n",
       "      <th>totalwords</th>\n",
       "    </tr>\n",
       "  </thead>\n",
       "  <tbody>\n",
       "    <tr>\n",
       "      <th>2</th>\n",
       "      <td>cbse</td>\n",
       "      <td>depressed anxious uncertain confused stress sad</td>\n",
       "      <td>should be cancelled</td>\n",
       "      <td>depressed;anxious;uncertain;confused;stress;sad</td>\n",
       "      <td>1.000</td>\n",
       "      <td>0.0</td>\n",
       "      <td>0.000</td>\n",
       "      <td>-0.9287</td>\n",
       "      <td>negative</td>\n",
       "      <td>[depressed, anxious, uncertain, confused, stre...</td>\n",
       "      <td>6</td>\n",
       "    </tr>\n",
       "    <tr>\n",
       "      <th>3</th>\n",
       "      <td>state board</td>\n",
       "      <td>anxious agitated uncertain ITC confused stress</td>\n",
       "      <td>should be cancelled</td>\n",
       "      <td>anxious;agitated;uncertain;inability to concen...</td>\n",
       "      <td>0.882</td>\n",
       "      <td>0.0</td>\n",
       "      <td>0.118</td>\n",
       "      <td>-0.9186</td>\n",
       "      <td>negative</td>\n",
       "      <td>[anxious, agitated, uncertain, inability to co...</td>\n",
       "      <td>6</td>\n",
       "    </tr>\n",
       "    <tr>\n",
       "      <th>4</th>\n",
       "      <td>state board</td>\n",
       "      <td>anxious agitated uncertain confused stress</td>\n",
       "      <td>should be cancelled</td>\n",
       "      <td>anxious;agitated;uncertain;confused;stress</td>\n",
       "      <td>1.000</td>\n",
       "      <td>0.0</td>\n",
       "      <td>0.000</td>\n",
       "      <td>-0.8834</td>\n",
       "      <td>negative</td>\n",
       "      <td>[anxious, agitated, uncertain, confused, stress]</td>\n",
       "      <td>5</td>\n",
       "    </tr>\n",
       "    <tr>\n",
       "      <th>5</th>\n",
       "      <td>cbse</td>\n",
       "      <td>depressed anxious ITC confused stress</td>\n",
       "      <td>should be cancelled</td>\n",
       "      <td>depressed;anxious;inability to concentrate;con...</td>\n",
       "      <td>0.868</td>\n",
       "      <td>0.0</td>\n",
       "      <td>0.132</td>\n",
       "      <td>-0.9022</td>\n",
       "      <td>negative</td>\n",
       "      <td>[depressed, anxious, inability to concentrate,...</td>\n",
       "      <td>5</td>\n",
       "    </tr>\n",
       "    <tr>\n",
       "      <th>6</th>\n",
       "      <td>state board</td>\n",
       "      <td>uncertain ITC confused</td>\n",
       "      <td>cannot say</td>\n",
       "      <td>uncertain;inability to concentrate;confused</td>\n",
       "      <td>0.783</td>\n",
       "      <td>0.0</td>\n",
       "      <td>0.217</td>\n",
       "      <td>-0.7351</td>\n",
       "      <td>negative</td>\n",
       "      <td>[uncertain, inability to concentrate, confused]</td>\n",
       "      <td>3</td>\n",
       "    </tr>\n",
       "    <tr>\n",
       "      <th>...</th>\n",
       "      <td>...</td>\n",
       "      <td>...</td>\n",
       "      <td>...</td>\n",
       "      <td>...</td>\n",
       "      <td>...</td>\n",
       "      <td>...</td>\n",
       "      <td>...</td>\n",
       "      <td>...</td>\n",
       "      <td>...</td>\n",
       "      <td>...</td>\n",
       "      <td>...</td>\n",
       "    </tr>\n",
       "    <tr>\n",
       "      <th>42635</th>\n",
       "      <td>state board</td>\n",
       "      <td>happy</td>\n",
       "      <td>should be cancelled</td>\n",
       "      <td>happy</td>\n",
       "      <td>0.000</td>\n",
       "      <td>1.0</td>\n",
       "      <td>0.000</td>\n",
       "      <td>0.5719</td>\n",
       "      <td>positive</td>\n",
       "      <td>[happy]</td>\n",
       "      <td>1</td>\n",
       "    </tr>\n",
       "    <tr>\n",
       "      <th>42636</th>\n",
       "      <td>state board</td>\n",
       "      <td>stress</td>\n",
       "      <td>should be cancelled</td>\n",
       "      <td>stress</td>\n",
       "      <td>1.000</td>\n",
       "      <td>0.0</td>\n",
       "      <td>0.000</td>\n",
       "      <td>-0.4215</td>\n",
       "      <td>negative</td>\n",
       "      <td>[stress]</td>\n",
       "      <td>1</td>\n",
       "    </tr>\n",
       "    <tr>\n",
       "      <th>42637</th>\n",
       "      <td>cbse</td>\n",
       "      <td>stress</td>\n",
       "      <td>should be cancelled</td>\n",
       "      <td>stress</td>\n",
       "      <td>1.000</td>\n",
       "      <td>0.0</td>\n",
       "      <td>0.000</td>\n",
       "      <td>-0.4215</td>\n",
       "      <td>negative</td>\n",
       "      <td>[stress]</td>\n",
       "      <td>1</td>\n",
       "    </tr>\n",
       "    <tr>\n",
       "      <th>42638</th>\n",
       "      <td>cbse</td>\n",
       "      <td>depressed</td>\n",
       "      <td>should be cancelled</td>\n",
       "      <td>depressed</td>\n",
       "      <td>1.000</td>\n",
       "      <td>0.0</td>\n",
       "      <td>0.000</td>\n",
       "      <td>-0.5106</td>\n",
       "      <td>negative</td>\n",
       "      <td>[depressed]</td>\n",
       "      <td>1</td>\n",
       "    </tr>\n",
       "    <tr>\n",
       "      <th>42639</th>\n",
       "      <td>cbse</td>\n",
       "      <td>depressed ITC confused stress sad</td>\n",
       "      <td>should be cancelled</td>\n",
       "      <td>depressed;inability to concentrate;confused;st...</td>\n",
       "      <td>0.877</td>\n",
       "      <td>0.0</td>\n",
       "      <td>0.123</td>\n",
       "      <td>-0.9217</td>\n",
       "      <td>negative</td>\n",
       "      <td>[depressed, inability to concentrate, confused...</td>\n",
       "      <td>5</td>\n",
       "    </tr>\n",
       "  </tbody>\n",
       "</table>\n",
       "<p>42633 rows × 11 columns</p>\n",
       "</div>"
      ],
      "text/plain": [
       "          syllabus                                         emotions  \\\n",
       "2             cbse  depressed anxious uncertain confused stress sad   \n",
       "3      state board   anxious agitated uncertain ITC confused stress   \n",
       "4      state board       anxious agitated uncertain confused stress   \n",
       "5             cbse            depressed anxious ITC confused stress   \n",
       "6      state board                           uncertain ITC confused   \n",
       "...            ...                                              ...   \n",
       "42635  state board                                            happy   \n",
       "42636  state board                                           stress   \n",
       "42637         cbse                                           stress   \n",
       "42638         cbse                                        depressed   \n",
       "42639         cbse                depressed ITC confused stress sad   \n",
       "\n",
       "                  opinions                                emotions_with_punct  \\\n",
       "2      should be cancelled    depressed;anxious;uncertain;confused;stress;sad   \n",
       "3      should be cancelled  anxious;agitated;uncertain;inability to concen...   \n",
       "4      should be cancelled         anxious;agitated;uncertain;confused;stress   \n",
       "5      should be cancelled  depressed;anxious;inability to concentrate;con...   \n",
       "6               cannot say        uncertain;inability to concentrate;confused   \n",
       "...                    ...                                                ...   \n",
       "42635  should be cancelled                                              happy   \n",
       "42636  should be cancelled                                             stress   \n",
       "42637  should be cancelled                                             stress   \n",
       "42638  should be cancelled                                          depressed   \n",
       "42639  should be cancelled  depressed;inability to concentrate;confused;st...   \n",
       "\n",
       "         neg  pos    neu  compound sentiment  \\\n",
       "2      1.000  0.0  0.000   -0.9287  negative   \n",
       "3      0.882  0.0  0.118   -0.9186  negative   \n",
       "4      1.000  0.0  0.000   -0.8834  negative   \n",
       "5      0.868  0.0  0.132   -0.9022  negative   \n",
       "6      0.783  0.0  0.217   -0.7351  negative   \n",
       "...      ...  ...    ...       ...       ...   \n",
       "42635  0.000  1.0  0.000    0.5719  positive   \n",
       "42636  1.000  0.0  0.000   -0.4215  negative   \n",
       "42637  1.000  0.0  0.000   -0.4215  negative   \n",
       "42638  1.000  0.0  0.000   -0.5106  negative   \n",
       "42639  0.877  0.0  0.123   -0.9217  negative   \n",
       "\n",
       "                                                   words  totalwords  \n",
       "2      [depressed, anxious, uncertain, confused, stre...           6  \n",
       "3      [anxious, agitated, uncertain, inability to co...           6  \n",
       "4       [anxious, agitated, uncertain, confused, stress]           5  \n",
       "5      [depressed, anxious, inability to concentrate,...           5  \n",
       "6        [uncertain, inability to concentrate, confused]           3  \n",
       "...                                                  ...         ...  \n",
       "42635                                            [happy]           1  \n",
       "42636                                           [stress]           1  \n",
       "42637                                           [stress]           1  \n",
       "42638                                        [depressed]           1  \n",
       "42639  [depressed, inability to concentrate, confused...           5  \n",
       "\n",
       "[42633 rows x 11 columns]"
      ]
     },
     "execution_count": 71,
     "metadata": {},
     "output_type": "execute_result"
    }
   ],
   "source": [
    "sentiments['totalwords'] = [len(x.split()) for x in sentiments['emotions'].tolist()]\n",
    "sentiments"
   ]
  },
  {
   "cell_type": "markdown",
   "metadata": {},
   "source": [
    "### Extracting 2 words and 3 words"
   ]
  },
  {
   "cell_type": "code",
   "execution_count": 72,
   "metadata": {},
   "outputs": [
    {
     "data": {
      "text/html": [
       "<div>\n",
       "<style scoped>\n",
       "    .dataframe tbody tr th:only-of-type {\n",
       "        vertical-align: middle;\n",
       "    }\n",
       "\n",
       "    .dataframe tbody tr th {\n",
       "        vertical-align: top;\n",
       "    }\n",
       "\n",
       "    .dataframe thead th {\n",
       "        text-align: right;\n",
       "    }\n",
       "</style>\n",
       "<table border=\"1\" class=\"dataframe\">\n",
       "  <thead>\n",
       "    <tr style=\"text-align: right;\">\n",
       "      <th></th>\n",
       "      <th>syllabus</th>\n",
       "      <th>emotions</th>\n",
       "      <th>opinions</th>\n",
       "      <th>neg</th>\n",
       "      <th>pos</th>\n",
       "      <th>neu</th>\n",
       "      <th>compound</th>\n",
       "      <th>sentiment</th>\n",
       "      <th>totalwords</th>\n",
       "    </tr>\n",
       "  </thead>\n",
       "  <tbody>\n",
       "    <tr>\n",
       "      <th>15</th>\n",
       "      <td>cbse</td>\n",
       "      <td>uncertain stress</td>\n",
       "      <td>cannot say</td>\n",
       "      <td>1.000</td>\n",
       "      <td>0.0</td>\n",
       "      <td>0.000</td>\n",
       "      <td>-0.6124</td>\n",
       "      <td>negative</td>\n",
       "      <td>2</td>\n",
       "    </tr>\n",
       "    <tr>\n",
       "      <th>29</th>\n",
       "      <td>state board</td>\n",
       "      <td>anxious uncertain</td>\n",
       "      <td>should be conducted at a later date</td>\n",
       "      <td>1.000</td>\n",
       "      <td>0.0</td>\n",
       "      <td>0.000</td>\n",
       "      <td>-0.4939</td>\n",
       "      <td>negative</td>\n",
       "      <td>2</td>\n",
       "    </tr>\n",
       "    <tr>\n",
       "      <th>52</th>\n",
       "      <td>state board</td>\n",
       "      <td>ITC confused</td>\n",
       "      <td>should be cancelled</td>\n",
       "      <td>0.714</td>\n",
       "      <td>0.0</td>\n",
       "      <td>0.286</td>\n",
       "      <td>-0.6124</td>\n",
       "      <td>negative</td>\n",
       "      <td>2</td>\n",
       "    </tr>\n",
       "    <tr>\n",
       "      <th>66</th>\n",
       "      <td>state board</td>\n",
       "      <td>excited happy</td>\n",
       "      <td>should be conducted at a later date</td>\n",
       "      <td>0.000</td>\n",
       "      <td>1.0</td>\n",
       "      <td>0.000</td>\n",
       "      <td>0.7269</td>\n",
       "      <td>positive</td>\n",
       "      <td>2</td>\n",
       "    </tr>\n",
       "    <tr>\n",
       "      <th>67</th>\n",
       "      <td>state board</td>\n",
       "      <td>MTFP confused</td>\n",
       "      <td>should be cancelled</td>\n",
       "      <td>0.365</td>\n",
       "      <td>0.0</td>\n",
       "      <td>0.635</td>\n",
       "      <td>-0.3182</td>\n",
       "      <td>negative</td>\n",
       "      <td>2</td>\n",
       "    </tr>\n",
       "  </tbody>\n",
       "</table>\n",
       "</div>"
      ],
      "text/plain": [
       "       syllabus           emotions                             opinions  \\\n",
       "15         cbse   uncertain stress                           cannot say   \n",
       "29  state board  anxious uncertain  should be conducted at a later date   \n",
       "52  state board       ITC confused                  should be cancelled   \n",
       "66  state board      excited happy  should be conducted at a later date   \n",
       "67  state board      MTFP confused                  should be cancelled   \n",
       "\n",
       "      neg  pos    neu  compound sentiment  totalwords  \n",
       "15  1.000  0.0  0.000   -0.6124  negative           2  \n",
       "29  1.000  0.0  0.000   -0.4939  negative           2  \n",
       "52  0.714  0.0  0.286   -0.6124  negative           2  \n",
       "66  0.000  1.0  0.000    0.7269  positive           2  \n",
       "67  0.365  0.0  0.635   -0.3182  negative           2  "
      ]
     },
     "execution_count": 72,
     "metadata": {},
     "output_type": "execute_result"
    }
   ],
   "source": [
    "two_words = sentiments[sentiments['totalwords'] == 2]\n",
    "columns1 = ['syllabus','emotions','opinions','neg','pos','neu','compound','sentiment','totalwords']\n",
    "two_words = two_words[columns1]\n",
    "two_words.head(5)"
   ]
  },
  {
   "cell_type": "code",
   "execution_count": 73,
   "metadata": {},
   "outputs": [
    {
     "data": {
      "text/html": [
       "<div>\n",
       "<style scoped>\n",
       "    .dataframe tbody tr th:only-of-type {\n",
       "        vertical-align: middle;\n",
       "    }\n",
       "\n",
       "    .dataframe tbody tr th {\n",
       "        vertical-align: top;\n",
       "    }\n",
       "\n",
       "    .dataframe thead th {\n",
       "        text-align: right;\n",
       "    }\n",
       "</style>\n",
       "<table border=\"1\" class=\"dataframe\">\n",
       "  <thead>\n",
       "    <tr style=\"text-align: right;\">\n",
       "      <th></th>\n",
       "      <th>syllabus</th>\n",
       "      <th>emotions</th>\n",
       "      <th>opinions</th>\n",
       "      <th>neg</th>\n",
       "      <th>pos</th>\n",
       "      <th>neu</th>\n",
       "      <th>compound</th>\n",
       "      <th>sentiment</th>\n",
       "      <th>totalwords</th>\n",
       "    </tr>\n",
       "  </thead>\n",
       "  <tbody>\n",
       "    <tr>\n",
       "      <th>6</th>\n",
       "      <td>state board</td>\n",
       "      <td>uncertain ITC confused</td>\n",
       "      <td>cannot say</td>\n",
       "      <td>0.783</td>\n",
       "      <td>0.000</td>\n",
       "      <td>0.217</td>\n",
       "      <td>-0.7351</td>\n",
       "      <td>negative</td>\n",
       "      <td>3</td>\n",
       "    </tr>\n",
       "    <tr>\n",
       "      <th>14</th>\n",
       "      <td>state board</td>\n",
       "      <td>ITC MTFP stress</td>\n",
       "      <td>should be cancelled</td>\n",
       "      <td>0.478</td>\n",
       "      <td>0.000</td>\n",
       "      <td>0.522</td>\n",
       "      <td>-0.6705</td>\n",
       "      <td>negative</td>\n",
       "      <td>3</td>\n",
       "    </tr>\n",
       "    <tr>\n",
       "      <th>17</th>\n",
       "      <td>cbse</td>\n",
       "      <td>ITC confused stress</td>\n",
       "      <td>should be cancelled</td>\n",
       "      <td>0.796</td>\n",
       "      <td>0.000</td>\n",
       "      <td>0.204</td>\n",
       "      <td>-0.7783</td>\n",
       "      <td>negative</td>\n",
       "      <td>3</td>\n",
       "    </tr>\n",
       "    <tr>\n",
       "      <th>20</th>\n",
       "      <td>state board</td>\n",
       "      <td>excited happy MTFP</td>\n",
       "      <td>cannot say</td>\n",
       "      <td>0.000</td>\n",
       "      <td>0.604</td>\n",
       "      <td>0.396</td>\n",
       "      <td>0.7269</td>\n",
       "      <td>positive</td>\n",
       "      <td>3</td>\n",
       "    </tr>\n",
       "    <tr>\n",
       "      <th>24</th>\n",
       "      <td>icse</td>\n",
       "      <td>depressed confused stress</td>\n",
       "      <td>should be cancelled</td>\n",
       "      <td>1.000</td>\n",
       "      <td>0.000</td>\n",
       "      <td>0.000</td>\n",
       "      <td>-0.8126</td>\n",
       "      <td>negative</td>\n",
       "      <td>3</td>\n",
       "    </tr>\n",
       "  </tbody>\n",
       "</table>\n",
       "</div>"
      ],
      "text/plain": [
       "       syllabus                   emotions             opinions    neg    pos  \\\n",
       "6   state board     uncertain ITC confused           cannot say  0.783  0.000   \n",
       "14  state board            ITC MTFP stress  should be cancelled  0.478  0.000   \n",
       "17         cbse        ITC confused stress  should be cancelled  0.796  0.000   \n",
       "20  state board         excited happy MTFP           cannot say  0.000  0.604   \n",
       "24         icse  depressed confused stress  should be cancelled  1.000  0.000   \n",
       "\n",
       "      neu  compound sentiment  totalwords  \n",
       "6   0.217   -0.7351  negative           3  \n",
       "14  0.522   -0.6705  negative           3  \n",
       "17  0.204   -0.7783  negative           3  \n",
       "20  0.396    0.7269  positive           3  \n",
       "24  0.000   -0.8126  negative           3  "
      ]
     },
     "execution_count": 73,
     "metadata": {},
     "output_type": "execute_result"
    }
   ],
   "source": [
    "three_words = sentiments[sentiments['totalwords'] == 3]\n",
    "columns2 = ['syllabus','emotions','opinions','neg','pos','neu','compound','sentiment','totalwords']\n",
    "three_words = three_words[columns2]\n",
    "three_words.head(5)"
   ]
  },
  {
   "cell_type": "code",
   "execution_count": 74,
   "metadata": {},
   "outputs": [
    {
     "name": "stdout",
     "output_type": "stream",
     "text": [
      "4259\n",
      "5303\n"
     ]
    }
   ],
   "source": [
    "print(len(two_words))\n",
    "print(len(three_words))"
   ]
  },
  {
   "cell_type": "markdown",
   "metadata": {},
   "source": [
    "### Extracting neg and pos 2 words and 3 words"
   ]
  },
  {
   "cell_type": "code",
   "execution_count": 75,
   "metadata": {},
   "outputs": [],
   "source": [
    "negative_two_words = two_words.loc[two_words['neg'] == 1.0]\n",
    "positive_two_words = two_words.loc[two_words['pos'] == 1.0]\n",
    "negative_three_words = three_words.loc[three_words['neg'] == 1.0]\n",
    "positive_three_words = three_words.loc[three_words['pos'] == 1.0]"
   ]
  },
  {
   "cell_type": "code",
   "execution_count": 76,
   "metadata": {},
   "outputs": [
    {
     "name": "stdout",
     "output_type": "stream",
     "text": [
      "2080\n",
      "206\n",
      "2004\n",
      "46\n"
     ]
    }
   ],
   "source": [
    "print(len(negative_two_words))\n",
    "print(len(positive_two_words))\n",
    "print(len(negative_three_words))\n",
    "print(len(positive_three_words))"
   ]
  },
  {
   "cell_type": "markdown",
   "metadata": {},
   "source": [
    "### Extracting mixed sentiments 2 words and 3 words"
   ]
  },
  {
   "cell_type": "code",
   "execution_count": 77,
   "metadata": {},
   "outputs": [
    {
     "data": {
      "text/html": [
       "<div>\n",
       "<style scoped>\n",
       "    .dataframe tbody tr th:only-of-type {\n",
       "        vertical-align: middle;\n",
       "    }\n",
       "\n",
       "    .dataframe tbody tr th {\n",
       "        vertical-align: top;\n",
       "    }\n",
       "\n",
       "    .dataframe thead th {\n",
       "        text-align: right;\n",
       "    }\n",
       "</style>\n",
       "<table border=\"1\" class=\"dataframe\">\n",
       "  <thead>\n",
       "    <tr style=\"text-align: right;\">\n",
       "      <th></th>\n",
       "      <th>syllabus</th>\n",
       "      <th>emotions</th>\n",
       "      <th>opinions</th>\n",
       "      <th>neg</th>\n",
       "      <th>pos</th>\n",
       "      <th>neu</th>\n",
       "      <th>compound</th>\n",
       "      <th>sentiment</th>\n",
       "      <th>totalwords</th>\n",
       "    </tr>\n",
       "  </thead>\n",
       "  <tbody>\n",
       "    <tr>\n",
       "      <th>67</th>\n",
       "      <td>state board</td>\n",
       "      <td>MTFP confused</td>\n",
       "      <td>should be cancelled</td>\n",
       "      <td>0.365</td>\n",
       "      <td>0.000</td>\n",
       "      <td>0.635</td>\n",
       "      <td>-0.3182</td>\n",
       "      <td>negative</td>\n",
       "      <td>2</td>\n",
       "    </tr>\n",
       "    <tr>\n",
       "      <th>69</th>\n",
       "      <td>state board</td>\n",
       "      <td>depressed happy</td>\n",
       "      <td>should be cancelled</td>\n",
       "      <td>0.471</td>\n",
       "      <td>0.529</td>\n",
       "      <td>0.000</td>\n",
       "      <td>0.1027</td>\n",
       "      <td>positive</td>\n",
       "      <td>2</td>\n",
       "    </tr>\n",
       "    <tr>\n",
       "      <th>90</th>\n",
       "      <td>state board</td>\n",
       "      <td>excited confused</td>\n",
       "      <td>should be cancelled</td>\n",
       "      <td>0.489</td>\n",
       "      <td>0.511</td>\n",
       "      <td>0.000</td>\n",
       "      <td>0.0258</td>\n",
       "      <td>neutral</td>\n",
       "      <td>2</td>\n",
       "    </tr>\n",
       "    <tr>\n",
       "      <th>329</th>\n",
       "      <td>state board</td>\n",
       "      <td>happy confused</td>\n",
       "      <td>should be cancelled</td>\n",
       "      <td>0.383</td>\n",
       "      <td>0.617</td>\n",
       "      <td>0.000</td>\n",
       "      <td>0.3400</td>\n",
       "      <td>positive</td>\n",
       "      <td>2</td>\n",
       "    </tr>\n",
       "    <tr>\n",
       "      <th>381</th>\n",
       "      <td>state board</td>\n",
       "      <td>MTFP confused</td>\n",
       "      <td>should be conducted at a later date</td>\n",
       "      <td>0.365</td>\n",
       "      <td>0.000</td>\n",
       "      <td>0.635</td>\n",
       "      <td>-0.3182</td>\n",
       "      <td>negative</td>\n",
       "      <td>2</td>\n",
       "    </tr>\n",
       "  </tbody>\n",
       "</table>\n",
       "</div>"
      ],
      "text/plain": [
       "        syllabus          emotions                             opinions  \\\n",
       "67   state board     MTFP confused                  should be cancelled   \n",
       "69   state board   depressed happy                  should be cancelled   \n",
       "90   state board  excited confused                  should be cancelled   \n",
       "329  state board    happy confused                  should be cancelled   \n",
       "381  state board     MTFP confused  should be conducted at a later date   \n",
       "\n",
       "       neg    pos    neu  compound sentiment  totalwords  \n",
       "67   0.365  0.000  0.635   -0.3182  negative           2  \n",
       "69   0.471  0.529  0.000    0.1027  positive           2  \n",
       "90   0.489  0.511  0.000    0.0258   neutral           2  \n",
       "329  0.383  0.617  0.000    0.3400  positive           2  \n",
       "381  0.365  0.000  0.635   -0.3182  negative           2  "
      ]
     },
     "execution_count": 77,
     "metadata": {},
     "output_type": "execute_result"
    }
   ],
   "source": [
    "two_words_compound = two_words.loc[two_words['compound'].between (-0.4,0.4, inclusive = True)]\n",
    "columns3 = ['syllabus','emotions','opinions','neg','pos','neu','compound','sentiment','totalwords']\n",
    "two_words_compound = two_words_compound[columns3]\n",
    "two_words_compound.head(5)"
   ]
  },
  {
   "cell_type": "code",
   "execution_count": 78,
   "metadata": {},
   "outputs": [
    {
     "data": {
      "text/html": [
       "<div>\n",
       "<style scoped>\n",
       "    .dataframe tbody tr th:only-of-type {\n",
       "        vertical-align: middle;\n",
       "    }\n",
       "\n",
       "    .dataframe tbody tr th {\n",
       "        vertical-align: top;\n",
       "    }\n",
       "\n",
       "    .dataframe thead th {\n",
       "        text-align: right;\n",
       "    }\n",
       "</style>\n",
       "<table border=\"1\" class=\"dataframe\">\n",
       "  <thead>\n",
       "    <tr style=\"text-align: right;\">\n",
       "      <th></th>\n",
       "      <th>syllabus</th>\n",
       "      <th>emotions</th>\n",
       "      <th>opinions</th>\n",
       "      <th>neg</th>\n",
       "      <th>pos</th>\n",
       "      <th>neu</th>\n",
       "      <th>compound</th>\n",
       "      <th>sentiment</th>\n",
       "      <th>totalwords</th>\n",
       "    </tr>\n",
       "  </thead>\n",
       "  <tbody>\n",
       "    <tr>\n",
       "      <th>181</th>\n",
       "      <td>state board</td>\n",
       "      <td>happy MTFP confused</td>\n",
       "      <td>should be cancelled</td>\n",
       "      <td>0.230</td>\n",
       "      <td>0.370</td>\n",
       "      <td>0.400</td>\n",
       "      <td>0.3400</td>\n",
       "      <td>positive</td>\n",
       "      <td>3</td>\n",
       "    </tr>\n",
       "    <tr>\n",
       "      <th>439</th>\n",
       "      <td>state board</td>\n",
       "      <td>happy MTFP confused</td>\n",
       "      <td>should be cancelled</td>\n",
       "      <td>0.230</td>\n",
       "      <td>0.370</td>\n",
       "      <td>0.400</td>\n",
       "      <td>0.3400</td>\n",
       "      <td>positive</td>\n",
       "      <td>3</td>\n",
       "    </tr>\n",
       "    <tr>\n",
       "      <th>730</th>\n",
       "      <td>state board</td>\n",
       "      <td>relieved MTFP confused</td>\n",
       "      <td>should be conducted at a later date</td>\n",
       "      <td>0.258</td>\n",
       "      <td>0.292</td>\n",
       "      <td>0.449</td>\n",
       "      <td>0.0772</td>\n",
       "      <td>positive</td>\n",
       "      <td>3</td>\n",
       "    </tr>\n",
       "    <tr>\n",
       "      <th>885</th>\n",
       "      <td>state board</td>\n",
       "      <td>relieved ITC confused</td>\n",
       "      <td>should be cancelled</td>\n",
       "      <td>0.521</td>\n",
       "      <td>0.271</td>\n",
       "      <td>0.208</td>\n",
       "      <td>-0.3400</td>\n",
       "      <td>negative</td>\n",
       "      <td>3</td>\n",
       "    </tr>\n",
       "    <tr>\n",
       "      <th>907</th>\n",
       "      <td>cbse</td>\n",
       "      <td>relieved ITC MTFP</td>\n",
       "      <td>should be conducted at a later date</td>\n",
       "      <td>0.239</td>\n",
       "      <td>0.230</td>\n",
       "      <td>0.531</td>\n",
       "      <td>-0.0258</td>\n",
       "      <td>neutral</td>\n",
       "      <td>3</td>\n",
       "    </tr>\n",
       "  </tbody>\n",
       "</table>\n",
       "</div>"
      ],
      "text/plain": [
       "        syllabus                emotions                             opinions  \\\n",
       "181  state board     happy MTFP confused                  should be cancelled   \n",
       "439  state board     happy MTFP confused                  should be cancelled   \n",
       "730  state board  relieved MTFP confused  should be conducted at a later date   \n",
       "885  state board   relieved ITC confused                  should be cancelled   \n",
       "907         cbse       relieved ITC MTFP  should be conducted at a later date   \n",
       "\n",
       "       neg    pos    neu  compound sentiment  totalwords  \n",
       "181  0.230  0.370  0.400    0.3400  positive           3  \n",
       "439  0.230  0.370  0.400    0.3400  positive           3  \n",
       "730  0.258  0.292  0.449    0.0772  positive           3  \n",
       "885  0.521  0.271  0.208   -0.3400  negative           3  \n",
       "907  0.239  0.230  0.531   -0.0258   neutral           3  "
      ]
     },
     "execution_count": 78,
     "metadata": {},
     "output_type": "execute_result"
    }
   ],
   "source": [
    "three_words_compound = three_words.loc[three_words['compound'].between (-0.4,0.4, inclusive = True)]\n",
    "columns4 = ['syllabus','emotions','opinions','neg','pos','neu','compound','sentiment','totalwords']\n",
    "three_words_compound = three_words_compound[columns4]\n",
    "three_words_compound.head(5)"
   ]
  },
  {
   "cell_type": "code",
   "execution_count": 79,
   "metadata": {},
   "outputs": [
    {
     "name": "stdout",
     "output_type": "stream",
     "text": [
      "648\n",
      "238\n"
     ]
    }
   ],
   "source": [
    "print(len(two_words_compound))\n",
    "print(len(three_words_compound))"
   ]
  },
  {
   "cell_type": "markdown",
   "metadata": {},
   "source": [
    "### Exporting to excel"
   ]
  },
  {
   "cell_type": "code",
   "execution_count": 80,
   "metadata": {},
   "outputs": [
    {
     "data": {
      "text/html": [
       "<div>\n",
       "<style scoped>\n",
       "    .dataframe tbody tr th:only-of-type {\n",
       "        vertical-align: middle;\n",
       "    }\n",
       "\n",
       "    .dataframe tbody tr th {\n",
       "        vertical-align: top;\n",
       "    }\n",
       "\n",
       "    .dataframe thead th {\n",
       "        text-align: right;\n",
       "    }\n",
       "</style>\n",
       "<table border=\"1\" class=\"dataframe\">\n",
       "  <thead>\n",
       "    <tr style=\"text-align: right;\">\n",
       "      <th></th>\n",
       "      <th>syllabus</th>\n",
       "      <th>emotions</th>\n",
       "      <th>opinions</th>\n",
       "      <th>neg</th>\n",
       "      <th>pos</th>\n",
       "      <th>neu</th>\n",
       "      <th>compound</th>\n",
       "      <th>sentiment</th>\n",
       "    </tr>\n",
       "  </thead>\n",
       "  <tbody>\n",
       "    <tr>\n",
       "      <th>2</th>\n",
       "      <td>cbse</td>\n",
       "      <td>depressed anxious uncertain confused stress sad</td>\n",
       "      <td>should be cancelled</td>\n",
       "      <td>1.000</td>\n",
       "      <td>0.0</td>\n",
       "      <td>0.000</td>\n",
       "      <td>-0.9287</td>\n",
       "      <td>negative</td>\n",
       "    </tr>\n",
       "    <tr>\n",
       "      <th>3</th>\n",
       "      <td>state board</td>\n",
       "      <td>anxious agitated uncertain ITC confused stress</td>\n",
       "      <td>should be cancelled</td>\n",
       "      <td>0.882</td>\n",
       "      <td>0.0</td>\n",
       "      <td>0.118</td>\n",
       "      <td>-0.9186</td>\n",
       "      <td>negative</td>\n",
       "    </tr>\n",
       "    <tr>\n",
       "      <th>4</th>\n",
       "      <td>state board</td>\n",
       "      <td>anxious agitated uncertain confused stress</td>\n",
       "      <td>should be cancelled</td>\n",
       "      <td>1.000</td>\n",
       "      <td>0.0</td>\n",
       "      <td>0.000</td>\n",
       "      <td>-0.8834</td>\n",
       "      <td>negative</td>\n",
       "    </tr>\n",
       "    <tr>\n",
       "      <th>5</th>\n",
       "      <td>cbse</td>\n",
       "      <td>depressed anxious ITC confused stress</td>\n",
       "      <td>should be cancelled</td>\n",
       "      <td>0.868</td>\n",
       "      <td>0.0</td>\n",
       "      <td>0.132</td>\n",
       "      <td>-0.9022</td>\n",
       "      <td>negative</td>\n",
       "    </tr>\n",
       "    <tr>\n",
       "      <th>6</th>\n",
       "      <td>state board</td>\n",
       "      <td>uncertain ITC confused</td>\n",
       "      <td>cannot say</td>\n",
       "      <td>0.783</td>\n",
       "      <td>0.0</td>\n",
       "      <td>0.217</td>\n",
       "      <td>-0.7351</td>\n",
       "      <td>negative</td>\n",
       "    </tr>\n",
       "  </tbody>\n",
       "</table>\n",
       "</div>"
      ],
      "text/plain": [
       "      syllabus                                         emotions  \\\n",
       "2         cbse  depressed anxious uncertain confused stress sad   \n",
       "3  state board   anxious agitated uncertain ITC confused stress   \n",
       "4  state board       anxious agitated uncertain confused stress   \n",
       "5         cbse            depressed anxious ITC confused stress   \n",
       "6  state board                           uncertain ITC confused   \n",
       "\n",
       "              opinions    neg  pos    neu  compound sentiment  \n",
       "2  should be cancelled  1.000  0.0  0.000   -0.9287  negative  \n",
       "3  should be cancelled  0.882  0.0  0.118   -0.9186  negative  \n",
       "4  should be cancelled  1.000  0.0  0.000   -0.8834  negative  \n",
       "5  should be cancelled  0.868  0.0  0.132   -0.9022  negative  \n",
       "6           cannot say  0.783  0.0  0.217   -0.7351  negative  "
      ]
     },
     "execution_count": 80,
     "metadata": {},
     "output_type": "execute_result"
    }
   ],
   "source": [
    "columns5 = ['syllabus','emotions','opinions','neg','pos','neu','compound','sentiment']\n",
    "sentiment_analysis = sentiments[columns5]\n",
    "sentiment_analysis.head(5)"
   ]
  },
  {
   "cell_type": "code",
   "execution_count": 81,
   "metadata": {},
   "outputs": [
    {
     "data": {
      "text/plain": [
       "sentiment  words                    \n",
       "negative   stress                       24675\n",
       "           confused                     23917\n",
       "           inability to concentrate     19889\n",
       "           depressed                    18377\n",
       "           sad                          13712\n",
       "           anxious                      12314\n",
       "           uncertain                     9836\n",
       "           agitated                      5473\n",
       "           more time for preparation     3975\n",
       "           excited                        802\n",
       "           relieved                       632\n",
       "           happy                          607\n",
       "neutral    more time for preparation      944\n",
       "           excited                         82\n",
       "           confused                        79\n",
       "           inability to concentrate        19\n",
       "           relieved                        17\n",
       "           happy                           11\n",
       "           anxious                          5\n",
       "           depressed                        4\n",
       "           stress                           4\n",
       "           uncertain                        4\n",
       "           sad                              2\n",
       "positive   happy                         1686\n",
       "           excited                        913\n",
       "           relieved                       620\n",
       "           more time for preparation      304\n",
       "           confused                       246\n",
       "           anxious                         92\n",
       "           stress                          78\n",
       "           uncertain                       76\n",
       "           inability to concentrate        69\n",
       "           sad                             38\n",
       "           depressed                       32\n",
       "           agitated                        14\n",
       "Name: words, dtype: int64"
      ]
     },
     "execution_count": 81,
     "metadata": {},
     "output_type": "execute_result"
    }
   ],
   "source": [
    "word_frequency"
   ]
  },
  {
   "cell_type": "code",
   "execution_count": 49,
   "metadata": {},
   "outputs": [],
   "source": [
    "with pd.ExcelWriter('Sentiment_Analysis_Results.xlsx', engine='xlsxwriter') as writer:\n",
    "    sentiment_analysis.to_excel(writer, sheet_name='Sheet1')\n",
    "    word_frequency.to_excel(writer, sheet_name='Sheet2')\n",
    "    negative_two_words.to_excel(writer, sheet_name='Sheet3')\n",
    "    positive_two_words.to_excel(writer, sheet_name='Sheet4')\n",
    "    negative_three_words.to_excel(writer, sheet_name='Sheet5')\n",
    "    positive_three_words.to_excel(writer, sheet_name='Sheet6')\n",
    "    two_words_compound.to_excel(writer, sheet_name='Sheet7')\n",
    "    three_words_compound.to_excel(writer, sheet_name='Sheet8')"
   ]
  }
 ],
 "metadata": {
  "kernelspec": {
   "display_name": "Python 3.8.5 ('base')",
   "language": "python",
   "name": "python3"
  },
  "language_info": {
   "codemirror_mode": {
    "name": "ipython",
    "version": 3
   },
   "file_extension": ".py",
   "mimetype": "text/x-python",
   "name": "python",
   "nbconvert_exporter": "python",
   "pygments_lexer": "ipython3",
   "version": "3.8.5"
  },
  "vscode": {
   "interpreter": {
    "hash": "9fe954a55e6c5316d986d97d50828b1be291aedc247c5bef5c2ca1e0de31008d"
   }
  }
 },
 "nbformat": 4,
 "nbformat_minor": 4
}
